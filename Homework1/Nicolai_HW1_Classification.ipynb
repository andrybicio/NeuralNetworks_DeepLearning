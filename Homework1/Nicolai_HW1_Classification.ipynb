{
 "cells": [
  {
   "cell_type": "markdown",
   "metadata": {
    "id": "zYncZVOyF8Rb"
   },
   "source": [
    "#NEURAL NETWORKS AND DEEP LEARNING\n",
    "> M.Sc. ICT FOR LIFE AND HEALTH\n",
    "> \n",
    "> Department of Information Engineering\n",
    "\n",
    "> M.Sc. COMPUTER ENGINEERING\n",
    ">\n",
    "> Department of Information Engineering\n",
    "\n",
    "> M.Sc. AUTOMATION ENGINEERING\n",
    ">\n",
    "> Department of Information Engineering\n",
    " \n",
    "> M.Sc. PHYSICS OF DATA\n",
    ">\n",
    "> Department of Physics and Astronomy\n",
    " \n",
    "> M.Sc. COGNITIVE NEUROSCIENCE AND CLINICAL NEUROPSYCHOLOGY\n",
    ">\n",
    "> Department of General Psychology\n",
    "\n",
    "---\n",
    "A.A. 2020/21 (6 CFU) - Dr. Alberto Testolin, Dr. Matteo Gadaleta\n",
    "---\n"
   ]
  },
  {
   "cell_type": "markdown",
   "metadata": {
    "id": "AgHJFDwYvgHg"
   },
   "source": [
    "# Homework 1 - Supervised Deep Learning"
   ]
  },
  {
   "cell_type": "markdown",
   "metadata": {
    "id": "bNENm7RHGFMd"
   },
   "source": [
    "## General overview\n",
    "In this homework you will learn how to implement and test simple neural network models for solving supervised problems. It is divided in two tasks.\n",
    "\n",
    "* **Regression task**: \n",
    "the regression model will consist in a simple function approximation problem, similar to the one discussed during the Lab practices. \n",
    "\n",
    "* **Classification task**: \n",
    "the classification model will consist in a simple image recognition problem, where the goal is to correctly classify images of handwritten digits (MNIST). \n",
    "\n",
    "In both cases, but especially for the classification problem, you should explore the use of advanced optimizers and regularization methods (e.g., initialization scheme, momentum, ADAM, early stopping, L2, L1 / sparsity, dropout…) to improve convergence of stochastic gradient descent and promote generalization. Learning hyperparameters should be tuned using appropriate search procedures, and final accuracy should be evaluated using a cross-validation setup. For the image classification task, you can also implement more advanced convolutional architectures and explore feature visualization techniques to better understand how the deep network is encoding information at different processing layers.\n"
   ]
  },
  {
   "cell_type": "markdown",
   "metadata": {
    "id": "bZGjMokMvk2h"
   },
   "source": [
    "\n",
    "## Technical notes\n",
    "The homework should be implemented in Python using the PyTorch framework. The student can explore additional libraries and tools to implement the models; however, please make sure you understand the code you are writing because during the exam you might receive specific questions related to your implementation. The entire source code required to run the homework must be uploaded as a compressed archive in a Moodle section dedicated to the homework.If your code will be entirely included in a single Python notebook, just upload the notebook file.\n",
    "\n"
   ]
  },
  {
   "cell_type": "markdown",
   "metadata": {
    "id": "UYZUBEMCvlpB"
   },
   "source": [
    "\n",
    "## Final report\n",
    "Along with the source code, you must separately upload a PDF file containing a brief report of your homework. The report should include a brief Introduction on which you explain the homework goals and the main implementation strategies you choose, a brief Method section where you describe your model architectures and hyperparameters, and a Result section where you present the simulation results. Total length should not exceed 6 pages, though you can include additional tables and figures in a final Appendix (optional).\n",
    "\n"
   ]
  },
  {
   "cell_type": "markdown",
   "metadata": {
    "id": "RchPc7G6vmRB"
   },
   "source": [
    "\n",
    "## Grade\n",
    "The maximum grade for this homework will be **8 points**. Points will be assigned based on the correct implementation of the following items:\n",
    "*\t2 pt: implement basic regression and classification tasks\n",
    "*\t2 pt: explore advanced optimizers and regularization methods \n",
    "*\t1 pt: optimize hyperparameters using grid/random search and cross-validation\n",
    "*\t2 pt: implement CNN for classification task\n",
    "*\t1 pt: visualize weight histograms, activation profiles and receptive fields\n"
   ]
  },
  {
   "cell_type": "markdown",
   "metadata": {
    "id": "LYE6Cjhgvm3B"
   },
   "source": [
    "\n",
    "## Deadline\n",
    "The complete homework (notebook + report) must be submitted through Moodle at least 10 days before the chosen exam date.\n"
   ]
  },
  {
   "cell_type": "markdown",
   "metadata": {
    "id": "SxW5QfJRvWV9"
   },
   "source": [
    "# Classification task"
   ]
  },
  {
   "cell_type": "markdown",
   "metadata": {
    "id": "cPTFyWeOyiR-"
   },
   "source": [
    "## Guidelines"
   ]
  },
  {
   "cell_type": "markdown",
   "metadata": {
    "id": "m8E-82AGylxj"
   },
   "source": [
    "* The goal is to train a neural network that maps an input image (hand-written digit) to one of ten classes (multi-class classification problem with mutually exclusive classes).\n",
    "* Define a proper loss (e.g. [torch.nn.CrossEntropyLoss](https://pytorch.org/docs/stable/generated/torch.nn.CrossEntropyLoss.html#torch.nn.CrossEntropyLoss))\n",
    "* Also here, consider to create a validation set from you training data, or use a k-fold cross-validation strategy.\n",
    "* Pay attention to the shape, data type and output values range. If needed, modify them accordingly to your implementation (read carefully the documentation of the layers that you use, e.g. [torch.nn.Conv2d](https://pytorch.org/docs/stable/generated/torch.nn.Conv2d.html)).\n",
    "* Explore different optimizers, acivation functions, network architectures. Analyze the effect of different regularization methods, such as dropout layers, random transformations (image rotation, scaling, add noise...) or L2 regularization (weight decay)."
   ]
  },
  {
   "cell_type": "markdown",
   "metadata": {
    "id": "rsvBiTw7ykT5"
   },
   "source": [
    "## Dataset"
   ]
  },
  {
   "cell_type": "code",
   "execution_count": 15,
   "metadata": {
    "id": "lrkanzKpwaFJ"
   },
   "outputs": [],
   "source": [
    "import torch\n",
    "import torchvision\n",
    "import matplotlib.pyplot as plt\n",
    "import numpy as np"
   ]
  },
  {
   "cell_type": "code",
   "execution_count": 16,
   "metadata": {},
   "outputs": [
    {
     "name": "stdout",
     "output_type": "stream",
     "text": [
      "Requirement already satisfied: requests in /opt/conda/lib/python3.8/site-packages (2.24.0)\r\n",
      "Requirement already satisfied: urllib3!=1.25.0,!=1.25.1,<1.26,>=1.21.1 in /opt/conda/lib/python3.8/site-packages (from requests) (1.25.11)\r\n",
      "Requirement already satisfied: idna<3,>=2.5 in /opt/conda/lib/python3.8/site-packages (from requests) (2.10)\r\n",
      "Requirement already satisfied: certifi>=2017.4.17 in /opt/conda/lib/python3.8/site-packages (from requests) (2020.12.5)\r\n",
      "Requirement already satisfied: chardet<4,>=3.0.2 in /opt/conda/lib/python3.8/site-packages (from requests) (3.0.4)\r\n"
     ]
    }
   ],
   "source": [
    "!pip install requests"
   ]
  },
  {
   "cell_type": "code",
   "execution_count": 17,
   "metadata": {},
   "outputs": [],
   "source": [
    "import torchvision.datasets"
   ]
  },
  {
   "cell_type": "markdown",
   "metadata": {
    "id": "EYaGs-I_zRk-"
   },
   "source": [
    "Download the dataset:"
   ]
  },
  {
   "cell_type": "code",
   "execution_count": 18,
   "metadata": {
    "colab": {
     "base_uri": "https://localhost:8080/",
     "height": 618,
     "referenced_widgets": [
      "ecc40b5da5b847eb9ab7014c78686f7f",
      "e968378527094873a5499cb1318aafee",
      "82fd594968a44d168100cc16d3f12451",
      "714698e273084163a8dc7f68c6e4df42",
      "046fa83bca2a46e2a2224dc7306cb5dc",
      "796a4e0f6744457286252d85ae61dedc",
      "7717d99cbcef4341818abc97ec3cca94",
      "4fe93d82e5f7428ab0b3b4ed5fe2b925",
      "afdbeb5fca974f4f8b164160953dcada",
      "aac4be783a53469c97c0f3969089c89e",
      "96a81d26f9464ea49e80df608ef902dc",
      "404e96cd56e740e3a72b134311402506",
      "0fb6f37a941646c9be2701610829927d",
      "affd40ad73a34a4ba8b55b68ee447d31",
      "8a0b9f628da347dd8931cab1bd17a10d",
      "3e8fce756fca46b2aab3f2ec02b05627",
      "02e25858389c4d00a0de4bf27ca75f60",
      "1b8452851e184f9892aec5917ae86e1d",
      "30af0058b8444c10b9877e231d5bd3a1",
      "a19f30f250a6429182e095c3941b48dc",
      "97f53612c9464ee188a2c78d1e87b830",
      "3ddfb0aed2f34f3582f4b4bb3246cd9e",
      "81622ab40a8e48659dfe6aa548f91634",
      "da6d105e4b9744b195a4545d01c8c85a",
      "122c63a168e24186a30b2491c295f229",
      "fecc0ed99d2644f1ba65fa6eb899535f",
      "f7e66e1aaea9415bba58b4d2cf24a1ef",
      "5dc63ff280d54b7996a260e22fe41734",
      "5c83ecf3c156498b9413443c22a0b85b",
      "78ac5ec6687d475c93e12e2f2952edf1",
      "ccd71afbce554f08b4fdb3aaa047945f",
      "3cf15a8061984701a2bd8bd3186a5623"
     ]
    },
    "id": "6wRuRn08zVO9",
    "outputId": "7a95c8fe-6ed8-4b64-f9ce-ab39b6c60148"
   },
   "outputs": [],
   "source": [
    "train_dataset = torchvision.datasets.MNIST('classifier_data', train=True, download=True)\n",
    "test_dataset  = torchvision.datasets.MNIST('classifier_data', train=False, download=True)"
   ]
  },
  {
   "cell_type": "markdown",
   "metadata": {
    "id": "IUIZu5YpzMT9"
   },
   "source": [
    "How to get an image and the corresponding label:"
   ]
  },
  {
   "cell_type": "code",
   "execution_count": 19,
   "metadata": {
    "colab": {
     "base_uri": "https://localhost:8080/",
     "height": 517
    },
    "id": "SGXmy4mNwfk4",
    "outputId": "344efbbb-fd71-4e40-da16-d5b0a3014e7f"
   },
   "outputs": [
    {
     "name": "stdout",
     "output_type": "stream",
     "text": [
      "SAMPLE AT INDEX 0\n",
      "LABEL: 5\n"
     ]
    },
    {
     "data": {
      "image/png": "[encoded data removed]",
      "text/plain": [
       "<Figure size 576x576 with 1 Axes>"
      ]
     },
     "metadata": {
      "needs_background": "light"
     },
     "output_type": "display_data"
    }
   ],
   "source": [
    "sample_index = 0\n",
    "image = train_dataset[sample_index][0]\n",
    "label = train_dataset[sample_index][1]\n",
    "\n",
    "fig = plt.figure(figsize=(8,8))\n",
    "plt.imshow(image, cmap='Greys')\n",
    "print(f\"SAMPLE AT INDEX {sample_index}\")\n",
    "print(f\"LABEL: {label}\")"
   ]
  },
  {
   "cell_type": "markdown",
   "metadata": {
    "id": "1SesSIfKyzMJ"
   },
   "source": [
    "The output of the dataset is a PIL Image, a python object specifically developed to manage and process images. PyTorch supports this format, and there are useful transforms available natively in the framework: https://pytorch.org/docs/stable/torchvision/transforms.html\n",
    "\n",
    "If you want, you can easily convert a PIL image to a numpy array and entirely ignore the PIL object:"
   ]
  },
  {
   "cell_type": "code",
   "execution_count": 20,
   "metadata": {
    "colab": {
     "base_uri": "https://localhost:8080/"
    },
    "id": "ezDSC_cCxK6y",
    "outputId": "9af6e549-114b-4638-f97d-66a9e5fe3f50"
   },
   "outputs": [
    {
     "name": "stdout",
     "output_type": "stream",
     "text": [
      "Numpy array shape: (28, 28)\n",
      "Numpy array type: uint8\n"
     ]
    }
   ],
   "source": [
    "image_numpy = np.array(image)\n",
    "\n",
    "print(f'Numpy array shape: {image_numpy.shape}')\n",
    "print(f'Numpy array type: {image_numpy.dtype}')"
   ]
  },
  {
   "cell_type": "markdown",
   "metadata": {
    "id": "cq4D90vE2cxm"
   },
   "source": [
    "To transform a PIL Image directly to a PyTorch tensor, instead:"
   ]
  },
  {
   "cell_type": "code",
   "execution_count": 21,
   "metadata": {
    "colab": {
     "base_uri": "https://localhost:8080/"
    },
    "id": "tCFlk263x0Aa",
    "outputId": "5f238b53-f42e-4d52-c2f2-32a52a3cffd5"
   },
   "outputs": [
    {
     "name": "stdout",
     "output_type": "stream",
     "text": [
      "PyTorch tensor shape: torch.Size([1, 28, 28])\n",
      "PyTorch tensor type: torch.float32\n"
     ]
    }
   ],
   "source": [
    "to_tensor = torchvision.transforms.ToTensor()\n",
    "image_tensor = to_tensor(image)\n",
    "\n",
    "print(f'PyTorch tensor shape: {image_tensor.shape}')\n",
    "print(f'PyTorch tensor type: {image_tensor.dtype}')"
   ]
  },
  {
   "cell_type": "markdown",
   "metadata": {
    "id": "u3FeOyJCzchj"
   },
   "source": [
    "Import all needed packages"
   ]
  },
  {
   "cell_type": "code",
   "execution_count": 22,
   "metadata": {
    "colab": {
     "base_uri": "https://localhost:8080/"
    },
    "id": "-j57PIkVy_tG",
    "outputId": "e98ec938-feb8-457d-dd3e-ce0d0ab3a9dd"
   },
   "outputs": [
    {
     "name": "stdout",
     "output_type": "stream",
     "text": [
      "GPU NOT available\n"
     ]
    }
   ],
   "source": [
    "import torch\n",
    "import torch.nn as nn\n",
    "import torch.optim as optim\n",
    "import pandas as pd\n",
    "import numpy as np\n",
    "import matplotlib.pyplot as plt\n",
    "import seaborn as sns\n",
    "import sklearn.metrics as skm\n",
    "from torch.utils.data import Dataset, DataLoader, SequentialSampler, ConcatDataset\n",
    "from torch.autograd import Variable\n",
    "from sklearn.model_selection import KFold\n",
    "from torchvision import transforms, datasets\n",
    "from tqdm import tqdm   \n",
    "from scipy.stats import loguniform \n",
    "from IPython.display import clear_output\n",
    "\n",
    "#set seed for reproducibility\n",
    "seed = 753\n",
    "np.random.seed(seed)\n",
    "torch.manual_seed(seed)\n",
    "\n",
    "#Use as \"hyper-hyper\" param\n",
    "batch_size = 512\n",
    "\n",
    "# Check if a cuda GPU is available and eventually select it\n",
    "if torch.cuda.is_available():\n",
    "  device = torch.device(\"cuda\")\n",
    "  print(\"GPU available\")\n",
    "else:\n",
    "  device = torch.device(\"cpu\")\n",
    "  print(\"GPU NOT available\")"
   ]
  },
  {
   "cell_type": "code",
   "execution_count": 23,
   "metadata": {
    "id": "aAhf6tUOzAqe"
   },
   "outputs": [],
   "source": [
    "class EarlyStopping:\n",
    "    '''\n",
    "    This class monitors whether a metrics does not improve over some\n",
    "    number of epochs, and eventually stop the training\n",
    "    '''\n",
    "\n",
    "    def __init__(self, patience = 10, delta = 1e-5, path = \"checkpoint.torch\", verbose = False ):\n",
    "        '''\n",
    "        patience : how many iterations to wait after last improvement (default: 10)\n",
    "        delta    : the minimum improvement one might consider (default: 1e-5)\n",
    "        path     : where to save the best model so far (default: \"checkpoint.torch\")\n",
    "        verbose  : whether to print some logs (eventual improvements (default: False))\n",
    "        '''\n",
    "\n",
    "        self.patience = patience\n",
    "        self.counter  = 0\n",
    "        self.delta    = delta\n",
    "        self.verbose = verbose\n",
    "        self.path    = path\n",
    "\n",
    "        self.metrics_min = np.Inf\n",
    "        self.early_stop  = False\n",
    "        self.best_score  = None\n",
    "\n",
    "    def __call__(self, metrics, model):\n",
    "        actual_score = -metrics\n",
    "\n",
    "        #this occurs at the first time step\n",
    "        if self.best_score is None:\n",
    "            self.best_score = actual_score \n",
    "            self.save_checkpoint(metrics, model)\n",
    "\n",
    "        #if there is already a best score and no improvement\n",
    "        elif actual_score < self.best_score + self.delta:\n",
    "            self.counter += 1\n",
    "            if self.counter >= self.patience:\n",
    "                self.early_stop = True\n",
    "\n",
    "        #if there is improvement, then restart the counter\n",
    "        else:\n",
    "            self.best_score = actual_score\n",
    "            self.save_checkpoint(metrics, model)\n",
    "            self.counter = 0\n",
    "    \n",
    "    def save_checkpoint(self, metrics, model):\n",
    "        '''\n",
    "        Save as a checkpoint the model when the metrics decrease\n",
    "        '''\n",
    "        if self.verbose:\n",
    "            print(\"Actual metrics has decreased: \", self.metrics_min , \" ---> \", metrics ,)\n",
    "        torch.save(model.state_dict(), self.path)\n",
    "        self.metrics_min = metrics\n"
   ]
  },
  {
   "cell_type": "code",
   "execution_count": 24,
   "metadata": {
    "id": "Z2c1i7EWzAs_"
   },
   "outputs": [],
   "source": [
    "class Network(nn.Module):\n",
    "    def __init__(self, n_channels = 1 , drop = 0.):\n",
    "        '''\n",
    "        Constructor that builds a Convolutional Neural Network with (in order)\n",
    "        - 1 Convolutional layer + stride\n",
    "        - 1 Convolutional layer + stride\n",
    "        - Flattening\n",
    "        - 1 Dense layer + Dropout \n",
    "        - 1 Dense layer (10 units) -> OUTPUT\n",
    "        ======================================================\n",
    "        INPUT\n",
    "         - drop (float)    : probability of dropout for the two dense layers\n",
    "         - n_channels(int) : number of output channels of the first layer\n",
    "        ======================================================\n",
    "        '''\n",
    "        super().__init__()\n",
    "\n",
    "        self.batch_size = n_channels\n",
    "        flatten_dim = (2*n_channels)*5*5\n",
    "\n",
    "        #Network architecture related code\n",
    "        #in order to reduce halve the dimensionality, the stride parameter is 2\n",
    "        # ---> img size 28x28 -> 14x14\n",
    "        self.conv1 = nn.Conv2d(in_channels = 1,  out_channels = n_channels, kernel_size = 4, padding=1, stride = 2)\n",
    "        # ---> img size 14x14 -> 5x5\n",
    "        self.conv2 = nn.Conv2d(in_channels = n_channels, out_channels = 2*n_channels, kernel_size=5, stride = 2)\n",
    "\n",
    "        #fully connected layers\n",
    "        self.fc1 = nn.Linear(flatten_dim, 128)\n",
    "        self.out = nn.Linear(128, 10)\n",
    "        \n",
    "        #Activation function related code \n",
    "        self.relu  = nn.ReLU()\n",
    "\n",
    "        #Dropout related code\n",
    "        self.drop = nn.Dropout(p = drop)\n",
    "        \n",
    "        #print(\"Network initialized!\")\n",
    "\n",
    "\n",
    "    def forward(self, x, additional_out=False):\n",
    "        # print(\"\\n\", x.shape )\n",
    "        #first convolutional layer\n",
    "        x = self.relu(self.conv1(x))\n",
    "        # print(x.shape )\n",
    "        #second convolutional layer\n",
    "        x = self.relu(self.conv2(x))\n",
    "        # print(x.shape )\n",
    "        #flatten up to first connected layer + dropout\n",
    "        x = x.view(x.size(0), -1)\n",
    "        # print(x.shape )\n",
    "        x = self.relu(self.drop(self.fc1(x)))\n",
    "        #second connected layer -> output\n",
    "        x = self.out(x)\n",
    "\n",
    "        return x\n",
    "    \n",
    "    def train_epoch(self, train_data_loader, loss_function, optimizer, device):\n",
    "        '''\n",
    "        Train the network (self) using as input eventual batches from train_data_loader,\n",
    "        having chosen the loss_function and the optimizer\n",
    "        it returns:\n",
    "        - the mean loss over batches\n",
    "        - the standard deviation loss over batches\n",
    "        '''\n",
    "        #enable training mode\n",
    "        self.train()\n",
    "        ### TRAIN\n",
    "        train_loss = []\n",
    "        for i_batch, sample_batched in enumerate(train_data_loader):\n",
    "\n",
    "            #divide the batch into values and labels\n",
    "            x_batch = sample_batched[0].to(device)\n",
    "            label_batch = sample_batched[1].to(device)\n",
    "\n",
    "            #Forward pass\n",
    "            out = self.forward(x_batch)\n",
    "\n",
    "            # Compute loss\n",
    "            loss = loss_function(out, label_batch)\n",
    "\n",
    "            # Backpropagation\n",
    "            self.zero_grad()\n",
    "            loss.backward()\n",
    "\n",
    "            # Update the weights\n",
    "            optimizer.step()\n",
    "\n",
    "            # Save train loss for this batch\n",
    "            loss_batch = loss.detach().cpu().numpy()\n",
    "            train_loss.append(loss_batch)\n",
    "\n",
    "        # Save average train loss\n",
    "        train_loss_mean = np.mean(train_loss)\n",
    "        train_loss_std  = np.std(train_loss)\n",
    "\n",
    "        return train_loss_mean, train_loss_std\n",
    "\n",
    "\n",
    "    def eval_epoch(self, eval_data_loader, loss_function, optimizer, device):\n",
    "        '''\n",
    "        Evaulate the performance of network (self)\n",
    "        using as input the validation set,\n",
    "        having chosen the loss_function and the optimizer\n",
    "        it returns:\n",
    "        - the mean loss over batches\n",
    "        - the standard deviation loss over batches\n",
    "        '''\n",
    "        #enable training mode\n",
    "        self.eval()\n",
    "        val_loss = []\n",
    "        \n",
    "        with torch.no_grad(): # Disable gradient tracking\n",
    "            for i_batch, sample_batched in enumerate(eval_data_loader):\n",
    "                #divide the batch into values and labels\n",
    "                x_batch = sample_batched[0].to(device)\n",
    "                label_batch = sample_batched[1].to(device)\n",
    "\n",
    "                #Forward pass\n",
    "                out = self.forward(x_batch)\n",
    "\n",
    "                # Compute loss\n",
    "                loss = loss_function(out, label_batch)\n",
    "                # Save train loss for this batch\n",
    "                loss_batch = loss.detach().cpu().numpy()\n",
    "                val_loss.append(loss_batch)\n",
    "\n",
    "        # Save average val loss\n",
    "        val_loss_mean = np.mean(val_loss)\n",
    "        val_loss_std  = np.std(val_loss)\n",
    "\n",
    "        return val_loss_mean, val_loss_std\n",
    "\n",
    "    #training WITHOUT early stopping\n",
    "    def fit(self, train_data, val_data, params_dict, loss_fn, plot_flag = False):\n",
    "        train_loss_means = []\n",
    "        val_loss_means = []\n",
    "\n",
    "        train_loss_std = []\n",
    "        val_loss_std = []\n",
    "\n",
    "        optimizer = params_dict.get('optimizer')\n",
    "        device = params_dict.get('device')\n",
    "\n",
    "        for epoch in tqdm(range(params_dict.get('n_epochs'))):\n",
    "            loss_mean, loss_std =  self.train_epoch(train_data, loss_fn, optimizer, device)\n",
    "            train_loss_means.append(loss_mean)\n",
    "            train_loss_std.append(loss_std)\n",
    "\n",
    "            loss_mean, loss_std =  self.eval_epoch(val_data, loss_fn, optimizer, device)\n",
    "            val_loss_means.append(loss_mean)\n",
    "            val_loss_std.append(loss_std)\n",
    "\n",
    "        train_metrics = np.array([np.array(train_loss_means), np.array(train_loss_std)])\n",
    "        val_metrics = np.array([np.array(val_loss_means), np.array(val_loss_std)])\n",
    "\n",
    "        if (plot_flag):\n",
    "            plt.figure(figsize = (8,6))\n",
    "            plt.plot(train_metrics[0,:], label = 'train')\n",
    "            plt.plot(val_metrics[0,:], label = 'test')\n",
    "            plt.xlabel('Epoch')\n",
    "            plt.ylabel('Loss')\n",
    "            plt.title('Loss vs epochs')\n",
    "            plt.legend()\n",
    "            plt.show()\n",
    "\n",
    "        return train_metrics, val_metrics\n",
    "\n",
    "    #training WITH early stopping\n",
    "    def fit_early_stop(self, train_data, val_data, params_dict, loss_fn,\n",
    "            early_stop_flag = False, patience = 10, verbose = False):\n",
    "        train_loss_means = []\n",
    "        val_loss_means = []\n",
    "\n",
    "        train_loss_std = []\n",
    "        val_loss_std = []\n",
    "\n",
    "        optimizer = params_dict.get('optimizer')\n",
    "        device = params_dict.get('device')\n",
    "        \n",
    "        #train with early stopping \n",
    "        if early_stop_flag: \n",
    "            early_stop = EarlyStopping(patience, verbose = verbose)\n",
    "\n",
    "        for epoch in tqdm(range(params_dict.get('n_epochs'))):\n",
    "            loss_mean, loss_std =  self.train_epoch(train_data, loss_fn, optimizer, device)\n",
    "            train_loss_means.append(loss_mean)\n",
    "            train_loss_std.append(loss_std)\n",
    "\n",
    "            loss_mean, loss_std =  self.eval_epoch(val_data, loss_fn, optimizer, device)\n",
    "            val_loss_means.append(loss_mean)\n",
    "            val_loss_std.append(loss_std)\n",
    "\n",
    "            #use early stop if the flag is set to True\n",
    "            if early_stop_flag:\n",
    "                early_stop(loss_mean, self)\n",
    "                if early_stop.early_stop:\n",
    "                    print(\"Loss has not increased. Early stopping...\")\n",
    "                    break\n",
    "\n",
    "        train_metrics = np.array([np.array(train_loss_means), np.array(train_loss_std)])\n",
    "        val_metrics = np.array([np.array(val_loss_means), np.array(val_loss_std)])\n",
    "\n",
    "        return train_metrics, val_metrics\n",
    "    \n",
    "    def test(self, test_loader, params_dict):\n",
    "        '''\n",
    "        Test the network in a classification task\n",
    "        '''\n",
    "        wrong_label = 0\n",
    "        predictions = []\n",
    "        true_labels = []\n",
    "\n",
    "        self.eval()\n",
    "        device = params_dict.get('device')\n",
    "        # Disable gradient tracking\n",
    "        with torch.no_grad():\n",
    "            for sample_batched in test_loader:\n",
    "                #divide the batch into values and labels\n",
    "                x_batch = sample_batched[0].to(device)\n",
    "                label_batch = sample_batched[1].to(device)\n",
    "\n",
    "                #Forward pass\n",
    "                out = self.forward(x_batch)\n",
    "                out = out.cpu().numpy().argmax()\n",
    "\n",
    "                predictions.append(out)\n",
    "                true_labels.append(label_batch)\n",
    "                \n",
    "        num_samples = len(test_loader)\n",
    "        temp_list = [predictions[i]-true_labels[i] for i in range(num_samples)]\n",
    "        #\"zero\" elements are the correct ones\n",
    "        accuracy = temp_list.count(0)/num_samples\n",
    "        return accuracy\n",
    "\n",
    "    def predict(self, data_input, device):\n",
    "        '''\n",
    "        Compute an array of predicted labels given input data\n",
    "        '''\n",
    "        #set evaluation mode\n",
    "        self.eval()\n",
    "        predictions_list = []\n",
    "\n",
    "        #disable gradient computing/tracking\n",
    "        with torch.no_grad():\n",
    "            for i_batch, sample_batched in enumerate(data_input):\n",
    "                x_batch = sample_batched[0].to(device) \n",
    "                #Forward pass\n",
    "                out = self.forward(x_batch)\n",
    "                outputs = out.cpu().numpy().argmax()\n",
    "\n",
    "                predictions_list.append(outputs)\n",
    "        return np.array( predictions_list )\n",
    "\n",
    "    #save the network state onto a path passed as input\n",
    "    def save_net(self, path: str):\n",
    "        torch.save( self.state_dict(), path )\n",
    "    \n",
    "    #retrieve the network state from a path passed as input\n",
    "    def load_net(self, path: str):\n",
    "        self.load_state_dict( torch.load(path) )"
   ]
  },
  {
   "cell_type": "code",
   "execution_count": 6,
   "metadata": {
    "id": "a67xHLkJx0mb"
   },
   "outputs": [],
   "source": [
    "class AddGaussianNoise():\n",
    "    def __init__(self, mu = 0., std = 1.):\n",
    "        self.mu  = mu\n",
    "        self.std = std\n",
    "\n",
    "    def __call__(self, tensor : torch.tensor):\n",
    "        perturb = torch.randn(tensor.size(), device=tensor.device) * self.std\n",
    "        return tensor + perturb + self.mu"
   ]
  },
  {
   "cell_type": "code",
   "execution_count": 7,
   "metadata": {
    "id": "brtFw2QB6qzr"
   },
   "outputs": [],
   "source": [
    "# As soon as data is uploaded, compose two basic transformations:\n",
    "# ToTensor()\n",
    "# Normalize by \n",
    "#    - mean = 0.1307 \n",
    "#    - std  = 0.3081\n",
    "\n",
    "basic_transf = transforms.Compose( [\n",
    "                                    transforms.ToTensor(),\n",
    "                                    transforms.Normalize((0.1307,), (0.3081,))\n",
    "                                    ] )"
   ]
  },
  {
   "cell_type": "code",
   "execution_count": 8,
   "metadata": {
    "colab": {
     "base_uri": "https://localhost:8080/",
     "height": 736,
     "referenced_widgets": [
      "06d43d44e218471c88b37f38ee4d4dc0",
      "bbf156af8d2043219ee556a0f0ac1cd0",
      "188ebb576c004849bed8cf5e9e406604",
      "317a75aeaf054132a033ad59dfc9cdc8",
      "6ee47be9ec8a4983bd9d85d3ea39cf1f",
      "effd409755854a3287632786b50fcaeb",
      "4200009b55de4659b6124b127988961f",
      "09ff8b906c604466b59a76e47d19ba63",
      "94493ec2486d4cd9a5be5d4cfdb64ed0",
      "ab19f635608c4e6a90b96841d014952e",
      "0c42b91d08b84b50a27126e52976a09f",
      "92ca42acd0544241bc473bb7eb6df9c4",
      "d956bba6060948dbb96bca1a627c7dfe",
      "235084d3eb584a14b1f1c618a2ee3721",
      "567b3a56237147c19f3091590199f2c8",
      "600946e8b03e4df893914c7e6409e147",
      "032e8535999844219a55a1db90d7a710",
      "74e91afcbc5147f48ebae3c9ad8007e9",
      "20d3fbc2a35a4e08a6fce0fee7e1f1f9",
      "e230a28d0567491a9c90eca0c4fd08c5",
      "e77f5787955b499c91941fe97bfa38b8",
      "274c1947701d4b56905856c03ba0b378",
      "090a0b017bc647b994b81ddad5e966fa",
      "9da458a5708b4b99914a0c920a52083d",
      "5906708da3aa4a06b625e205a4615b26",
      "c3b0cc28c64046b8b451ae4f8e007ddd",
      "2209d74fd53548098c274fa7e9de25fd",
      "1067a6b722594bb5bcadb56e7c43323f",
      "2dc453e3b2ee4bc1bb1e4b773ef12884",
      "cce384f287c748e1ada96d593cdcc8e8",
      "2800ef30d3114c20aef60f6678503959",
      "54c8103eb1e3448cae4753eb0eb1e8b7",
      "b1d0efa6a65c4a65adf080345cd72fb2",
      "ab93c0025b7b4fc3a7b2b3536e632f52",
      "aeb1f62eaab046b7b5fc8c2c3460ee49",
      "9203483180e4433aa022778675504032",
      "45e685fe464d435a8ea801c8b99bda58",
      "ca1344f1e7d148ca8190958fb9ad4932",
      "db71ce4e81ed4b289f24bf2840086599",
      "5e24a1080068436185eba786229f54b9",
      "492c7ecd247240c1875ec206719ba9dc",
      "381f517776a641baad715795d6329264",
      "f483c8f95b4340218db81c624dd2d695",
      "6c4d1f4d4d434133b7d1c5c703c5c11a"
     ]
    },
    "id": "2QiQpeMj7UUe",
    "outputId": "52a7440a-c6ac-4e2d-947f-80d1bc29fa98"
   },
   "outputs": [],
   "source": [
    "test_dataset  = datasets.MNIST('classifier_data', train=False, transform=basic_transf, download=True)"
   ]
  },
  {
   "cell_type": "code",
   "execution_count": 9,
   "metadata": {
    "id": "Ypi6ByOozAvQ"
   },
   "outputs": [],
   "source": [
    "Gauss_noise = AddGaussianNoise()\n",
    "Rotation    = transforms.RandomRotation(degrees = 45)\n",
    "\n",
    "advanced_transform = transforms.Compose([basic_transf,\n",
    "                                        transforms.RandomChoice([Gauss_noise,Rotation])\n",
    "                                        ]) "
   ]
  },
  {
   "cell_type": "code",
   "execution_count": 10,
   "metadata": {
    "colab": {
     "base_uri": "https://localhost:8080/"
    },
    "id": "1BeMs2ESzAxb",
    "outputId": "8e11d169-845e-4055-83e4-ea7620bfe46a"
   },
   "outputs": [
    {
     "name": "stdout",
     "output_type": "stream",
     "text": [
      "Elements in Train set: 48000\n",
      "Elements in Validation set: 12000\n",
      "Elements in Test set: 10000\n"
     ]
    }
   ],
   "source": [
    "train_dataset_full = datasets.MNIST('classifier_data', train=True,  transform = advanced_transform, download=True)\n",
    "\n",
    "TRAIN_PERC = 0.8\n",
    "TRAIN_ELEM = len(train_dataset_full)\n",
    "N_TRAIN_ELEM = int(TRAIN_ELEM*TRAIN_PERC) \n",
    "N_VALID_ELEM = TRAIN_ELEM - N_TRAIN_ELEM\n",
    "N_TEST_ELEM  = len(test_dataset)\n",
    "\n",
    "print(\"Elements in Train set:\",      N_TRAIN_ELEM)\n",
    "print(\"Elements in Validation set:\", N_VALID_ELEM)\n",
    "print(\"Elements in Test set:\",       N_TEST_ELEM )\n",
    "\n",
    "# Prepare Training and Validation sets\n",
    "train_dataset, validation_dataset = torch.utils.data.random_split(train_dataset_full, [N_TRAIN_ELEM, N_VALID_ELEM])"
   ]
  },
  {
   "cell_type": "code",
   "execution_count": 11,
   "metadata": {
    "id": "_BN4ig9uzAzl"
   },
   "outputs": [],
   "source": [
    "batch_size_train = 512\n",
    "batch_size_test  = 1\n",
    "\n",
    "#load the data\n",
    "train_load = torch.utils.data.DataLoader(train_dataset,      batch_size=batch_size_train, shuffle = True)\n",
    "valid_load = torch.utils.data.DataLoader(validation_dataset, batch_size=batch_size_train, shuffle = False)\n",
    "test_load  = torch.utils.data.DataLoader(test_dataset,       batch_size=batch_size_test,  shuffle = False)"
   ]
  },
  {
   "cell_type": "code",
   "execution_count": 19,
   "metadata": {
    "colab": {
     "base_uri": "https://localhost:8080/",
     "height": 656
    },
    "id": "jrktNJwezA2S",
    "outputId": "059b9b9e-5bc0-4ab2-e51d-61fa04212807"
   },
   "outputs": [
    {
     "name": "stderr",
     "output_type": "stream",
     "text": [
      "100% 15/15 [05:45<00:00, 23.02s/it]\n"
     ]
    },
    {
     "data": {
      "image/png": "[encoded data removed]",
      "text/plain": [
       "<Figure size 576x432 with 1 Axes>"
      ]
     },
     "metadata": {
      "needs_background": "light"
     },
     "output_type": "display_data"
    },
    {
     "data": {
      "text/plain": [
       "(array([[1.3743241 , 0.64213777, 0.5079115 , 0.42055166, 0.37380576,\n",
       "         0.33867708, 0.32211852, 0.29126462, 0.28273845, 0.2673334 ,\n",
       "         0.25460425, 0.24582806, 0.24401927, 0.23321214, 0.2246616 ],\n",
       "        [0.56977713, 0.07635549, 0.0489049 , 0.0440614 , 0.04005289,\n",
       "         0.03577608, 0.03741112, 0.04082677, 0.03527149, 0.03114396,\n",
       "         0.03265634, 0.03533594, 0.02991461, 0.03167353, 0.03245888]],\n",
       "       dtype=float32),\n",
       " array([[0.70846707, 0.51944   , 0.4156369 , 0.35018286, 0.30558947,\n",
       "         0.2832851 , 0.2658712 , 0.23850848, 0.23360391, 0.22079253,\n",
       "         0.2091155 , 0.19963317, 0.1913944 , 0.17981504, 0.18109961],\n",
       "        [0.04036639, 0.04146018, 0.0298141 , 0.02846978, 0.02724822,\n",
       "         0.03008051, 0.03731836, 0.02675414, 0.03098571, 0.02501254,\n",
       "         0.03005974, 0.0225039 , 0.03140713, 0.0316094 , 0.02286295]],\n",
       "       dtype=float32))"
      ]
     },
     "execution_count": 19,
     "metadata": {},
     "output_type": "execute_result"
    }
   ],
   "source": [
    "test_network = Network(2, 0.25).to(device)\n",
    "multiclass_loss = nn.CrossEntropyLoss()\n",
    "\n",
    "fit_dict = {'device': device, \n",
    "            'optimizer': optim.Adam(test_network.parameters()) ,\n",
    "            'n_epochs': 15\n",
    "            }\n",
    "\n",
    "test_network.fit(train_data = train_load, val_data = valid_load, params_dict = fit_dict, loss_fn = multiclass_loss, plot_flag = True)"
   ]
  },
  {
   "cell_type": "code",
   "execution_count": 20,
   "metadata": {
    "colab": {
     "base_uri": "https://localhost:8080/"
    },
    "id": "aGGWi86nMI7U",
    "outputId": "d5adf8b0-af2c-4917-daab-bd68e22e489e"
   },
   "outputs": [
    {
     "name": "stdout",
     "output_type": "stream",
     "text": [
      "Simple model without optimization accuracy is:  0.9685\n"
     ]
    }
   ],
   "source": [
    "print(\"Simple model without optimization accuracy is: \", test_network.test( test_load , fit_dict ))"
   ]
  },
  {
   "cell_type": "code",
   "execution_count": 21,
   "metadata": {
    "id": "zRxfUKbaMI-V"
   },
   "outputs": [],
   "source": [
    "#Analyze the predictions with a confusion matrix\n",
    "predictions = test_network.predict( test_load , fit_dict.get('device'))\n",
    "true_labels = np.array([x[1] for x in test_dataset])"
   ]
  },
  {
   "cell_type": "markdown",
   "metadata": {
    "id": "ppRCVHYw9KkK"
   },
   "source": [
    "Let us check the performance on the test set."
   ]
  },
  {
   "cell_type": "code",
   "execution_count": 22,
   "metadata": {
    "colab": {
     "base_uri": "https://localhost:8080/",
     "height": 425
    },
    "id": "rtClcoceMJBV",
    "outputId": "aa641f2b-7928-4ae0-f491-e3050dbefab4"
   },
   "outputs": [
    {
     "name": "stdout",
     "output_type": "stream",
     "text": [
      "Labels and frequencies in test set:  [ 980 1135 1032 1010  982  892  958 1028  974 1009]\n",
      "\n",
      " Confusion matrix (normalized)\n"
     ]
    },
    {
     "data": {
      "image/png": "[encoded data removed]",
      "text/plain": [
       "<Figure size 648x432 with 2 Axes>"
      ]
     },
     "metadata": {
      "needs_background": "light"
     },
     "output_type": "display_data"
    }
   ],
   "source": [
    "# for better aligned printing of confusion matrix use floatmode='fixed' (not supported in all versions of Python)\n",
    "np.set_printoptions(precision=3, suppress=True, floatmode = 'fixed')\n",
    "\n",
    "u, counts = np.unique(true_labels, return_counts=True)\n",
    "print(\"Labels and frequencies in test set: \", counts)\n",
    "\n",
    "confusion_test = skm.confusion_matrix( predictions, true_labels)\n",
    "\n",
    "print(\"\\n Confusion matrix (normalized)\")\n",
    "plt.figure(figsize = (9,6))\n",
    "sns.heatmap(confusion_test/counts[:,None], annot=True, fmt =  \"1.2f\" , cmap=\"Reds\" )\n",
    "plt.show()"
   ]
  },
  {
   "cell_type": "markdown",
   "metadata": {
    "id": "60DwjMq4Fjon"
   },
   "source": [
    "# Best hyperparameters search"
   ]
  },
  {
   "cell_type": "code",
   "execution_count": 23,
   "metadata": {
    "id": "GmFYNWMNJolI"
   },
   "outputs": [],
   "source": [
    "def get_correct_optimizer(model, params_dict):\n",
    "    learn_r = params_dict.get('learn_r')\n",
    "    w_dec   = params_dict.get('weight_dec')\n",
    "    \n",
    "    #instantiate the correct optimizer\n",
    "    if params_dict.get('optimizer') == 'sgd':\n",
    "        optimizer = optim.SGD(\n",
    "            model.parameters(),\n",
    "            lr = learn_r,\n",
    "            weight_decay = w_dec,\n",
    "            momentum = 0.9\n",
    "            )\n",
    "\n",
    "    elif params_dict.get('optimizer') == 'adam':\n",
    "        optimizer = optim.Adam(\n",
    "        model.parameters(),\n",
    "        lr = learn_r,\n",
    "        weight_decay = w_dec,\n",
    "        )\n",
    "\n",
    "    elif params_dict.get('optimizer') == 'adagrad':\n",
    "        optimizer = optim.Adagrad(\n",
    "        model.parameters(),\n",
    "        lr = learn_r,\n",
    "        weight_decay = w_dec\n",
    "        )\n",
    "\n",
    "    return optimizer\n",
    "\n",
    "#reset parameters to avoid weights leakage\n",
    "#source https://androidkt.com/pytorch-k-fold-cross-validation-using-dataloader-and-sklearn/\n",
    "def reset_weights(model):\n",
    "    if isinstance(model, nn.Linear):\n",
    "        model.reset_parameters()"
   ]
  },
  {
   "cell_type": "code",
   "execution_count": 24,
   "metadata": {
    "colab": {
     "base_uri": "https://localhost:8080/"
    },
    "id": "Ekiek6hhI0s2",
    "outputId": "3c67ec43-14da-4c69-ce9b-683eb6a8cd53"
   },
   "outputs": [
    {
     "data": {
      "text/plain": [
       "{'n_channels': 8,\n",
       " 'drop': 0.18937947207633532,\n",
       " 'optimizer': 'adagrad',\n",
       " 'learn_r': 0.0016612411672599745,\n",
       " 'weight_dec': 0.00903777247297268,\n",
       " 'device': device(type='cpu')}"
      ]
     },
     "execution_count": 24,
     "metadata": {},
     "output_type": "execute_result"
    }
   ],
   "source": [
    "hyper_param_dict = {\n",
    "    'n_channels' : [2,4,8,16],\n",
    "    'drop'       : np.random.uniform(0, 0.5, size = 20),\n",
    "    'optimizer'  : ['sgd', 'adagrad', 'adam'],\n",
    "    'learn_r'    : loguniform.rvs(1e-4, 1e-2, size =  20),\n",
    "    'weight_dec' : loguniform.rvs(1e-3, 1e-1, size =  20), #acts similarly to L2 norm\n",
    "    'device'     : [device]\n",
    "}\n",
    "\n",
    "#sample a single set of parameters out\n",
    "def sample_set_params(params_urn):\n",
    "  drawn = {}\n",
    "  for param in params_urn.keys():\n",
    "    drawn[param] = np.random.choice( params_urn.get(param) )\n",
    "\n",
    "  return drawn\n",
    "\n",
    "sample_set_params(hyper_param_dict)"
   ]
  },
  {
   "cell_type": "code",
   "execution_count": 25,
   "metadata": {
    "id": "7PpSCcXWMJD-"
   },
   "outputs": [],
   "source": [
    "def CV_random_set(train_set, valid_set, params_grid, iterations):\n",
    "    '''\n",
    "    This functions tries a given number of set of parameters, in order\n",
    "    to find the optimal set of parameters which reaches the least validation loss\n",
    "    Since data is few, the search is done after splitting the training data into\n",
    "    a certain number of folds (K-FOLD cross validation)\n",
    "    INPUTS:\n",
    "    - train_set   : training set dataloader\n",
    "    - valid_set   : validation set dataloader\n",
    "    - params_grid : a dictionary with the parameters one draws from\n",
    "    - iterations  : number of set of parameters to test\n",
    "\n",
    "    OUTPUT:\n",
    "    A dictionary containing: \n",
    "    - the set of parameters chosen\n",
    "    - training loss for every epoch\n",
    "    - validation loss for every epoch\n",
    "    '''\n",
    "\n",
    "    output_dict = {}\n",
    "    parameters_list     = []\n",
    "    train_loss_log      = []\n",
    "    validation_loss_log = []\n",
    "\n",
    "    #the loss remains the same due to the nature of the problem\n",
    "    loss = nn.CrossEntropyLoss()\n",
    "\n",
    "    for iterat in range(iterations):\n",
    "        print(\"\\n ################ MODEL\", iterat+1, \"/\", iterations, \"  ###########\")\n",
    "\n",
    "        #\"draw\" a model\n",
    "        actual_params = sample_set_params(params_grid)\n",
    "        parameters_list.append(actual_params)\n",
    "\n",
    "        n_channels = actual_params.get('n_channels')\n",
    "        drop = actual_params.get('drop')\n",
    "        optimizer = actual_params.get('optimizer')\n",
    "        learn_r = actual_params.get('learn_r')\n",
    "        weight_dec = actual_params.get('weight_dec')\n",
    "        device = actual_params.get('device')\n",
    "\n",
    "        #create new network with given parameters and reset weights\n",
    "        network = Network(n_channels=n_channels, drop=drop).to(device)\n",
    "        network.apply(reset_weights)\n",
    "\n",
    "        optimizer = get_correct_optimizer(network, actual_params)\n",
    "\n",
    "        #instantiate this dummy dict due to \"fit\" method implementation\n",
    "        dummy_dict = {'optimizer': optimizer, 'n_epochs': 40, 'device': device}\n",
    "        #do the job -> training and validation over a single fold\n",
    "        train_loss, val_loss = network.fit_early_stop(train_set, valid_set, dummy_dict, loss,\n",
    "                                                      early_stop_flag = True, patience = 2, verbose = False)\n",
    "                \n",
    "        #fold is an index that denotes the fold we are dealing with\n",
    "        train_loss_log.append(train_loss)\n",
    "        validation_loss_log.append(val_loss)\n",
    "        clear_output(wait=True)\n",
    "        del network \n",
    "\n",
    "\n",
    "    return  parameters_list, train_loss_log, validation_loss_log "
   ]
  },
  {
   "cell_type": "code",
   "execution_count": 27,
   "metadata": {
    "colab": {
     "base_uri": "https://localhost:8080/"
    },
    "id": "P-NCJAWNzA4r",
    "outputId": "bee42dd8-8a3a-4817-e3b4-55fbaad237a5"
   },
   "outputs": [
    {
     "name": "stderr",
     "output_type": "stream",
     "text": [
      "\r",
      "  0% 0/40 [00:00<?, ?it/s]"
     ]
    },
    {
     "name": "stdout",
     "output_type": "stream",
     "text": [
      "\n",
      " ################ MODEL 40 / 40   ###########\n"
     ]
    },
    {
     "name": "stderr",
     "output_type": "stream",
     "text": [
      " 78% 31/40 [08:33<02:29, 16.57s/it]"
     ]
    },
    {
     "name": "stdout",
     "output_type": "stream",
     "text": [
      "Loss has not increased. Early stopping...\n"
     ]
    },
    {
     "name": "stderr",
     "output_type": "stream",
     "text": [
      "\n"
     ]
    }
   ],
   "source": [
    "pars, train_loss, val_loss = CV_random_set(train_load, valid_load, hyper_param_dict, 40)"
   ]
  },
  {
   "cell_type": "code",
   "execution_count": 28,
   "metadata": {
    "id": "TCbGRIM2LZhB"
   },
   "outputs": [
    {
     "data": {
      "text/html": [
       "<div>\n",
       "<style scoped>\n",
       "    .dataframe tbody tr th:only-of-type {\n",
       "        vertical-align: middle;\n",
       "    }\n",
       "\n",
       "    .dataframe tbody tr th {\n",
       "        vertical-align: top;\n",
       "    }\n",
       "\n",
       "    .dataframe thead th {\n",
       "        text-align: right;\n",
       "    }\n",
       "</style>\n",
       "<table border=\"1\" class=\"dataframe\">\n",
       "  <thead>\n",
       "    <tr style=\"text-align: right;\">\n",
       "      <th></th>\n",
       "      <th>params</th>\n",
       "      <th>training_loss</th>\n",
       "      <th>val_loss</th>\n",
       "      <th>min_validation_loss</th>\n",
       "    </tr>\n",
       "  </thead>\n",
       "  <tbody>\n",
       "    <tr>\n",
       "      <th>0</th>\n",
       "      <td>{'n_channels': 16, 'drop': 0.02817768022328398...</td>\n",
       "      <td>[0.8898967, 0.3407809, 0.20917393, 0.16650707,...</td>\n",
       "      <td>[0.4575217, 0.26059195, 0.18667488, 0.15633737...</td>\n",
       "      <td>0.088045</td>\n",
       "    </tr>\n",
       "    <tr>\n",
       "      <th>1</th>\n",
       "      <td>{'n_channels': 16, 'drop': 0.22302022243092595...</td>\n",
       "      <td>[0.83482814, 0.3278432, 0.22072555, 0.18264301...</td>\n",
       "      <td>[0.38638583, 0.23233855, 0.17410655, 0.1657085...</td>\n",
       "      <td>0.089959</td>\n",
       "    </tr>\n",
       "    <tr>\n",
       "      <th>2</th>\n",
       "      <td>{'n_channels': 16, 'drop': 0.38213248697702573...</td>\n",
       "      <td>[0.5792924, 0.22264324, 0.17648081, 0.16634105...</td>\n",
       "      <td>[0.1972748, 0.14666845, 0.122784376, 0.1262692...</td>\n",
       "      <td>0.095368</td>\n",
       "    </tr>\n",
       "    <tr>\n",
       "      <th>3</th>\n",
       "      <td>{'n_channels': 16, 'drop': 0.00773454787468907...</td>\n",
       "      <td>[1.6308849, 0.5527505, 0.3932998, 0.30580536, ...</td>\n",
       "      <td>[0.6850013, 0.47238564, 0.34414133, 0.2761601,...</td>\n",
       "      <td>0.096561</td>\n",
       "    </tr>\n",
       "    <tr>\n",
       "      <th>4</th>\n",
       "      <td>{'n_channels': 8, 'drop': 0.4067313626364476, ...</td>\n",
       "      <td>[1.1956961, 0.56392616, 0.425091, 0.34960377, ...</td>\n",
       "      <td>[0.59107614, 0.42293906, 0.32772732, 0.2623908...</td>\n",
       "      <td>0.100737</td>\n",
       "    </tr>\n",
       "    <tr>\n",
       "      <th>5</th>\n",
       "      <td>{'n_channels': 8, 'drop': 0.20897402166044182,...</td>\n",
       "      <td>[0.67622346, 0.23983467, 0.18638982, 0.1650559...</td>\n",
       "      <td>[0.2754961, 0.17497301, 0.16552223, 0.13376696...</td>\n",
       "      <td>0.108436</td>\n",
       "    </tr>\n",
       "    <tr>\n",
       "      <th>6</th>\n",
       "      <td>{'n_channels': 4, 'drop': 0.09613300749628806,...</td>\n",
       "      <td>[1.2288593, 0.53507835, 0.38181752, 0.2960934,...</td>\n",
       "      <td>[0.639452, 0.44612765, 0.31577003, 0.26801154,...</td>\n",
       "      <td>0.110823</td>\n",
       "    </tr>\n",
       "    <tr>\n",
       "      <th>7</th>\n",
       "      <td>{'n_channels': 4, 'drop': 0.044543102133377976...</td>\n",
       "      <td>[1.1731461, 0.45684645, 0.2996436, 0.23786005,...</td>\n",
       "      <td>[0.5837737, 0.35350847, 0.25755623, 0.2309198,...</td>\n",
       "      <td>0.113150</td>\n",
       "    </tr>\n",
       "    <tr>\n",
       "      <th>8</th>\n",
       "      <td>{'n_channels': 4, 'drop': 0.22302022243092595,...</td>\n",
       "      <td>[1.2980487, 0.56127965, 0.40803906, 0.33027872...</td>\n",
       "      <td>[0.62531424, 0.43255985, 0.328291, 0.27020267,...</td>\n",
       "      <td>0.121050</td>\n",
       "    </tr>\n",
       "    <tr>\n",
       "      <th>9</th>\n",
       "      <td>{'n_channels': 16, 'drop': 0.10828452680128925...</td>\n",
       "      <td>[0.49477947, 0.18771113, 0.1661245, 0.15101628...</td>\n",
       "      <td>[0.1887173, 0.20132558, 0.1527806, 0.13977079,...</td>\n",
       "      <td>0.124751</td>\n",
       "    </tr>\n",
       "    <tr>\n",
       "      <th>10</th>\n",
       "      <td>{'n_channels': 16, 'drop': 0.02817768022328398...</td>\n",
       "      <td>[1.543431, 0.66762257, 0.5493984, 0.4632143, 0...</td>\n",
       "      <td>[0.7931803, 0.5931403, 0.50072795, 0.42749414,...</td>\n",
       "      <td>0.141094</td>\n",
       "    </tr>\n",
       "    <tr>\n",
       "      <th>11</th>\n",
       "      <td>{'n_channels': 4, 'drop': 0.22302022243092595,...</td>\n",
       "      <td>[1.691593, 0.78026426, 0.6215739, 0.52378976, ...</td>\n",
       "      <td>[0.8908181, 0.6468381, 0.5378789, 0.45292285, ...</td>\n",
       "      <td>0.148685</td>\n",
       "    </tr>\n",
       "    <tr>\n",
       "      <th>12</th>\n",
       "      <td>{'n_channels': 16, 'drop': 0.22302022243092595...</td>\n",
       "      <td>[0.7277145, 0.28389764, 0.22028251, 0.20002007...</td>\n",
       "      <td>[0.31117365, 0.2262723, 0.17139125, 0.16537625...</td>\n",
       "      <td>0.155456</td>\n",
       "    </tr>\n",
       "    <tr>\n",
       "      <th>13</th>\n",
       "      <td>{'n_channels': 16, 'drop': 0.10828452680128925...</td>\n",
       "      <td>[2.2358472, 1.4160973, 0.7718063, 0.6556499, 0...</td>\n",
       "      <td>[2.0699055, 0.8425128, 0.6800552, 0.60095024, ...</td>\n",
       "      <td>0.196994</td>\n",
       "    </tr>\n",
       "    <tr>\n",
       "      <th>14</th>\n",
       "      <td>{'n_channels': 4, 'drop': 0.045297000000984744...</td>\n",
       "      <td>[2.221794, 1.6226699, 0.989926, 0.75597095, 0....</td>\n",
       "      <td>[2.0476534, 1.2044941, 0.82566386, 0.70229405,...</td>\n",
       "      <td>0.206717</td>\n",
       "    </tr>\n",
       "    <tr>\n",
       "      <th>15</th>\n",
       "      <td>{'n_channels': 2, 'drop': 0.007734547874689079...</td>\n",
       "      <td>[1.8499302, 0.8142973, 0.6702359, 0.58562565, ...</td>\n",
       "      <td>[0.9795337, 0.7334736, 0.6304331, 0.5544304, 0...</td>\n",
       "      <td>0.247714</td>\n",
       "    </tr>\n",
       "    <tr>\n",
       "      <th>16</th>\n",
       "      <td>{'n_channels': 2, 'drop': 0.09613300749628806,...</td>\n",
       "      <td>[2.291301, 2.1659756, 1.3903836, 0.8830391, 0....</td>\n",
       "      <td>[2.265683, 1.9279133, 0.931711, 0.7500613, 0.6...</td>\n",
       "      <td>0.255935</td>\n",
       "    </tr>\n",
       "    <tr>\n",
       "      <th>17</th>\n",
       "      <td>{'n_channels': 16, 'drop': 0.20897402166044182...</td>\n",
       "      <td>[2.2794402, 2.1201217, 1.4693738, 0.9273993, 0...</td>\n",
       "      <td>[2.2371218, 1.8956276, 1.0127889, 0.76667327, ...</td>\n",
       "      <td>0.256526</td>\n",
       "    </tr>\n",
       "    <tr>\n",
       "      <th>18</th>\n",
       "      <td>{'n_channels': 8, 'drop': 0.3328244824949956, ...</td>\n",
       "      <td>[1.1894625, 0.75179404, 0.6706817, 0.6117551, ...</td>\n",
       "      <td>[0.7592161, 0.6366796, 0.5746766, 0.5314751, 0...</td>\n",
       "      <td>0.272669</td>\n",
       "    </tr>\n",
       "    <tr>\n",
       "      <th>19</th>\n",
       "      <td>{'n_channels': 16, 'drop': 0.22302022243092595...</td>\n",
       "      <td>[2.2885435, 2.2385502, 2.1013427, 1.6737782, 1...</td>\n",
       "      <td>[2.2684076, 2.1938667, 1.951539, 1.2951225, 0....</td>\n",
       "      <td>0.274727</td>\n",
       "    </tr>\n",
       "    <tr>\n",
       "      <th>20</th>\n",
       "      <td>{'n_channels': 4, 'drop': 0.38213248697702573,...</td>\n",
       "      <td>[2.10328, 0.7245784, 0.54993206, 0.48430756, 0...</td>\n",
       "      <td>[1.0240973, 0.5321122, 0.45481393, 0.40601173,...</td>\n",
       "      <td>0.316624</td>\n",
       "    </tr>\n",
       "    <tr>\n",
       "      <th>21</th>\n",
       "      <td>{'n_channels': 8, 'drop': 0.40219835376511437,...</td>\n",
       "      <td>[2.2848754, 2.2036386, 1.9662769, 1.4835995, 1...</td>\n",
       "      <td>[2.2500784, 2.1172163, 1.6936926, 1.1385967, 0...</td>\n",
       "      <td>0.319477</td>\n",
       "    </tr>\n",
       "    <tr>\n",
       "      <th>22</th>\n",
       "      <td>{'n_channels': 4, 'drop': 0.20897402166044182,...</td>\n",
       "      <td>[1.3462769, 0.6721931, 0.5514138, 0.4889797, 0...</td>\n",
       "      <td>[0.7062659, 0.5714282, 0.47529277, 0.44671476,...</td>\n",
       "      <td>0.319728</td>\n",
       "    </tr>\n",
       "    <tr>\n",
       "      <th>23</th>\n",
       "      <td>{'n_channels': 16, 'drop': 0.3738229616875892,...</td>\n",
       "      <td>[2.2915509, 2.2320743, 2.0060287, 1.3870988, 1...</td>\n",
       "      <td>[2.2706678, 2.1689837, 1.7096077, 1.0279416, 0...</td>\n",
       "      <td>0.378270</td>\n",
       "    </tr>\n",
       "    <tr>\n",
       "      <th>24</th>\n",
       "      <td>{'n_channels': 4, 'drop': 0.0806333009225309, ...</td>\n",
       "      <td>[1.3490784, 0.6160195, 0.5184946, 0.46933395, ...</td>\n",
       "      <td>[0.6956337, 0.537819, 0.4814384, 0.44662502, 0...</td>\n",
       "      <td>0.396003</td>\n",
       "    </tr>\n",
       "    <tr>\n",
       "      <th>25</th>\n",
       "      <td>{'n_channels': 16, 'drop': 0.06446991082491466...</td>\n",
       "      <td>[2.3026958, 2.2950163, 2.2854414, 2.2719862, 2...</td>\n",
       "      <td>[2.2979715, 2.2897766, 2.279189, 2.2629235, 2....</td>\n",
       "      <td>0.401706</td>\n",
       "    </tr>\n",
       "    <tr>\n",
       "      <th>26</th>\n",
       "      <td>{'n_channels': 8, 'drop': 0.10828452680128925,...</td>\n",
       "      <td>[2.1371539, 1.2622828, 0.8306196, 0.7262962, 0...</td>\n",
       "      <td>[1.7729539, 0.90590477, 0.74513125, 0.68271595...</td>\n",
       "      <td>0.407989</td>\n",
       "    </tr>\n",
       "    <tr>\n",
       "      <th>27</th>\n",
       "      <td>{'n_channels': 2, 'drop': 0.22302022243092595,...</td>\n",
       "      <td>[2.298909, 2.2658832, 1.8740795, 1.1778225, 0....</td>\n",
       "      <td>[2.2933447, 2.1892302, 1.4472781, 0.9641995, 0...</td>\n",
       "      <td>0.424395</td>\n",
       "    </tr>\n",
       "    <tr>\n",
       "      <th>28</th>\n",
       "      <td>{'n_channels': 2, 'drop': 0.007734547874689079...</td>\n",
       "      <td>[1.9389002, 1.2094487, 0.9452899, 0.83085155, ...</td>\n",
       "      <td>[1.4745773, 1.0272884, 0.8690233, 0.81008977, ...</td>\n",
       "      <td>0.483692</td>\n",
       "    </tr>\n",
       "    <tr>\n",
       "      <th>29</th>\n",
       "      <td>{'n_channels': 8, 'drop': 0.007734547874689079...</td>\n",
       "      <td>[2.2970176, 2.281335, 2.261604, 2.2338867, 2.1...</td>\n",
       "      <td>[2.2884455, 2.2713263, 2.248959, 2.2148752, 2....</td>\n",
       "      <td>0.509513</td>\n",
       "    </tr>\n",
       "    <tr>\n",
       "      <th>30</th>\n",
       "      <td>{'n_channels': 2, 'drop': 0.2684158600677407, ...</td>\n",
       "      <td>[2.3038762, 2.2997117, 2.294835, 2.288883, 2.2...</td>\n",
       "      <td>[2.3024616, 2.2988183, 2.2927446, 2.2855039, 2...</td>\n",
       "      <td>0.573920</td>\n",
       "    </tr>\n",
       "    <tr>\n",
       "      <th>31</th>\n",
       "      <td>{'n_channels': 4, 'drop': 0.18937947207633532,...</td>\n",
       "      <td>[2.308687, 2.3064263, 2.304778, 2.3029966, 2.3...</td>\n",
       "      <td>[2.306938, 2.304823, 2.3034277, 2.3016355, 2.2...</td>\n",
       "      <td>0.610713</td>\n",
       "    </tr>\n",
       "    <tr>\n",
       "      <th>32</th>\n",
       "      <td>{'n_channels': 16, 'drop': 0.06446991082491466...</td>\n",
       "      <td>[2.1549058, 1.8316425, 1.5623779, 1.3673773, 1...</td>\n",
       "      <td>[1.9900036, 1.6815797, 1.4483395, 1.2885977, 1...</td>\n",
       "      <td>0.649767</td>\n",
       "    </tr>\n",
       "    <tr>\n",
       "      <th>33</th>\n",
       "      <td>{'n_channels': 4, 'drop': 0.4994628516291167, ...</td>\n",
       "      <td>[2.2536497, 2.1198275, 1.9519069, 1.7821237, 1...</td>\n",
       "      <td>[2.1902244, 2.0229514, 1.8398644, 1.6682142, 1...</td>\n",
       "      <td>0.707098</td>\n",
       "    </tr>\n",
       "    <tr>\n",
       "      <th>34</th>\n",
       "      <td>{'n_channels': 4, 'drop': 0.18937947207633532,...</td>\n",
       "      <td>[2.2500064, 2.1350908, 2.0062087, 1.8832792, 1...</td>\n",
       "      <td>[2.1976326, 2.0696957, 1.9414641, 1.8200661, 1...</td>\n",
       "      <td>0.749340</td>\n",
       "    </tr>\n",
       "    <tr>\n",
       "      <th>35</th>\n",
       "      <td>{'n_channels': 8, 'drop': 0.40219835376511437,...</td>\n",
       "      <td>[2.2601724, 2.173835, 2.0836968, 1.9930863, 1....</td>\n",
       "      <td>[2.2158623, 2.1238363, 2.0267181, 1.9347181, 1...</td>\n",
       "      <td>0.889581</td>\n",
       "    </tr>\n",
       "    <tr>\n",
       "      <th>36</th>\n",
       "      <td>{'n_channels': 2, 'drop': 0.4067313626364476, ...</td>\n",
       "      <td>[2.2896383, 2.2695136, 2.250411, 2.230908, 2.2...</td>\n",
       "      <td>[2.2791972, 2.2591963, 2.2399666, 2.218092, 2....</td>\n",
       "      <td>1.368291</td>\n",
       "    </tr>\n",
       "    <tr>\n",
       "      <th>37</th>\n",
       "      <td>{'n_channels': 2, 'drop': 0.18937947207633532,...</td>\n",
       "      <td>[2.3019392, 2.294679, 2.2894535, 2.2845232, 2....</td>\n",
       "      <td>[2.296839, 2.29083, 2.2860239, 2.2814682, 2.27...</td>\n",
       "      <td>2.011502</td>\n",
       "    </tr>\n",
       "    <tr>\n",
       "      <th>38</th>\n",
       "      <td>{'n_channels': 4, 'drop': 0.4994628516291167, ...</td>\n",
       "      <td>[2.3023832, 2.302138, 2.3016999, 2.3005261, 2....</td>\n",
       "      <td>[2.3015134, 2.301246, 2.3005564, 2.3001757, 2....</td>\n",
       "      <td>2.067523</td>\n",
       "    </tr>\n",
       "    <tr>\n",
       "      <th>39</th>\n",
       "      <td>{'n_channels': 2, 'drop': 0.007734547874689079...</td>\n",
       "      <td>[2.3051486, 2.3047376, 2.3046756, 2.3042824, 2...</td>\n",
       "      <td>[2.3053386, 2.304811, 2.3046367, 2.3044903, 2....</td>\n",
       "      <td>2.301111</td>\n",
       "    </tr>\n",
       "  </tbody>\n",
       "</table>\n",
       "</div>"
      ],
      "text/plain": [
       "                                               params  \\\n",
       "0   {'n_channels': 16, 'drop': 0.02817768022328398...   \n",
       "1   {'n_channels': 16, 'drop': 0.22302022243092595...   \n",
       "2   {'n_channels': 16, 'drop': 0.38213248697702573...   \n",
       "3   {'n_channels': 16, 'drop': 0.00773454787468907...   \n",
       "4   {'n_channels': 8, 'drop': 0.4067313626364476, ...   \n",
       "5   {'n_channels': 8, 'drop': 0.20897402166044182,...   \n",
       "6   {'n_channels': 4, 'drop': 0.09613300749628806,...   \n",
       "7   {'n_channels': 4, 'drop': 0.044543102133377976...   \n",
       "8   {'n_channels': 4, 'drop': 0.22302022243092595,...   \n",
       "9   {'n_channels': 16, 'drop': 0.10828452680128925...   \n",
       "10  {'n_channels': 16, 'drop': 0.02817768022328398...   \n",
       "11  {'n_channels': 4, 'drop': 0.22302022243092595,...   \n",
       "12  {'n_channels': 16, 'drop': 0.22302022243092595...   \n",
       "13  {'n_channels': 16, 'drop': 0.10828452680128925...   \n",
       "14  {'n_channels': 4, 'drop': 0.045297000000984744...   \n",
       "15  {'n_channels': 2, 'drop': 0.007734547874689079...   \n",
       "16  {'n_channels': 2, 'drop': 0.09613300749628806,...   \n",
       "17  {'n_channels': 16, 'drop': 0.20897402166044182...   \n",
       "18  {'n_channels': 8, 'drop': 0.3328244824949956, ...   \n",
       "19  {'n_channels': 16, 'drop': 0.22302022243092595...   \n",
       "20  {'n_channels': 4, 'drop': 0.38213248697702573,...   \n",
       "21  {'n_channels': 8, 'drop': 0.40219835376511437,...   \n",
       "22  {'n_channels': 4, 'drop': 0.20897402166044182,...   \n",
       "23  {'n_channels': 16, 'drop': 0.3738229616875892,...   \n",
       "24  {'n_channels': 4, 'drop': 0.0806333009225309, ...   \n",
       "25  {'n_channels': 16, 'drop': 0.06446991082491466...   \n",
       "26  {'n_channels': 8, 'drop': 0.10828452680128925,...   \n",
       "27  {'n_channels': 2, 'drop': 0.22302022243092595,...   \n",
       "28  {'n_channels': 2, 'drop': 0.007734547874689079...   \n",
       "29  {'n_channels': 8, 'drop': 0.007734547874689079...   \n",
       "30  {'n_channels': 2, 'drop': 0.2684158600677407, ...   \n",
       "31  {'n_channels': 4, 'drop': 0.18937947207633532,...   \n",
       "32  {'n_channels': 16, 'drop': 0.06446991082491466...   \n",
       "33  {'n_channels': 4, 'drop': 0.4994628516291167, ...   \n",
       "34  {'n_channels': 4, 'drop': 0.18937947207633532,...   \n",
       "35  {'n_channels': 8, 'drop': 0.40219835376511437,...   \n",
       "36  {'n_channels': 2, 'drop': 0.4067313626364476, ...   \n",
       "37  {'n_channels': 2, 'drop': 0.18937947207633532,...   \n",
       "38  {'n_channels': 4, 'drop': 0.4994628516291167, ...   \n",
       "39  {'n_channels': 2, 'drop': 0.007734547874689079...   \n",
       "\n",
       "                                        training_loss  \\\n",
       "0   [0.8898967, 0.3407809, 0.20917393, 0.16650707,...   \n",
       "1   [0.83482814, 0.3278432, 0.22072555, 0.18264301...   \n",
       "2   [0.5792924, 0.22264324, 0.17648081, 0.16634105...   \n",
       "3   [1.6308849, 0.5527505, 0.3932998, 0.30580536, ...   \n",
       "4   [1.1956961, 0.56392616, 0.425091, 0.34960377, ...   \n",
       "5   [0.67622346, 0.23983467, 0.18638982, 0.1650559...   \n",
       "6   [1.2288593, 0.53507835, 0.38181752, 0.2960934,...   \n",
       "7   [1.1731461, 0.45684645, 0.2996436, 0.23786005,...   \n",
       "8   [1.2980487, 0.56127965, 0.40803906, 0.33027872...   \n",
       "9   [0.49477947, 0.18771113, 0.1661245, 0.15101628...   \n",
       "10  [1.543431, 0.66762257, 0.5493984, 0.4632143, 0...   \n",
       "11  [1.691593, 0.78026426, 0.6215739, 0.52378976, ...   \n",
       "12  [0.7277145, 0.28389764, 0.22028251, 0.20002007...   \n",
       "13  [2.2358472, 1.4160973, 0.7718063, 0.6556499, 0...   \n",
       "14  [2.221794, 1.6226699, 0.989926, 0.75597095, 0....   \n",
       "15  [1.8499302, 0.8142973, 0.6702359, 0.58562565, ...   \n",
       "16  [2.291301, 2.1659756, 1.3903836, 0.8830391, 0....   \n",
       "17  [2.2794402, 2.1201217, 1.4693738, 0.9273993, 0...   \n",
       "18  [1.1894625, 0.75179404, 0.6706817, 0.6117551, ...   \n",
       "19  [2.2885435, 2.2385502, 2.1013427, 1.6737782, 1...   \n",
       "20  [2.10328, 0.7245784, 0.54993206, 0.48430756, 0...   \n",
       "21  [2.2848754, 2.2036386, 1.9662769, 1.4835995, 1...   \n",
       "22  [1.3462769, 0.6721931, 0.5514138, 0.4889797, 0...   \n",
       "23  [2.2915509, 2.2320743, 2.0060287, 1.3870988, 1...   \n",
       "24  [1.3490784, 0.6160195, 0.5184946, 0.46933395, ...   \n",
       "25  [2.3026958, 2.2950163, 2.2854414, 2.2719862, 2...   \n",
       "26  [2.1371539, 1.2622828, 0.8306196, 0.7262962, 0...   \n",
       "27  [2.298909, 2.2658832, 1.8740795, 1.1778225, 0....   \n",
       "28  [1.9389002, 1.2094487, 0.9452899, 0.83085155, ...   \n",
       "29  [2.2970176, 2.281335, 2.261604, 2.2338867, 2.1...   \n",
       "30  [2.3038762, 2.2997117, 2.294835, 2.288883, 2.2...   \n",
       "31  [2.308687, 2.3064263, 2.304778, 2.3029966, 2.3...   \n",
       "32  [2.1549058, 1.8316425, 1.5623779, 1.3673773, 1...   \n",
       "33  [2.2536497, 2.1198275, 1.9519069, 1.7821237, 1...   \n",
       "34  [2.2500064, 2.1350908, 2.0062087, 1.8832792, 1...   \n",
       "35  [2.2601724, 2.173835, 2.0836968, 1.9930863, 1....   \n",
       "36  [2.2896383, 2.2695136, 2.250411, 2.230908, 2.2...   \n",
       "37  [2.3019392, 2.294679, 2.2894535, 2.2845232, 2....   \n",
       "38  [2.3023832, 2.302138, 2.3016999, 2.3005261, 2....   \n",
       "39  [2.3051486, 2.3047376, 2.3046756, 2.3042824, 2...   \n",
       "\n",
       "                                             val_loss  min_validation_loss  \n",
       "0   [0.4575217, 0.26059195, 0.18667488, 0.15633737...             0.088045  \n",
       "1   [0.38638583, 0.23233855, 0.17410655, 0.1657085...             0.089959  \n",
       "2   [0.1972748, 0.14666845, 0.122784376, 0.1262692...             0.095368  \n",
       "3   [0.6850013, 0.47238564, 0.34414133, 0.2761601,...             0.096561  \n",
       "4   [0.59107614, 0.42293906, 0.32772732, 0.2623908...             0.100737  \n",
       "5   [0.2754961, 0.17497301, 0.16552223, 0.13376696...             0.108436  \n",
       "6   [0.639452, 0.44612765, 0.31577003, 0.26801154,...             0.110823  \n",
       "7   [0.5837737, 0.35350847, 0.25755623, 0.2309198,...             0.113150  \n",
       "8   [0.62531424, 0.43255985, 0.328291, 0.27020267,...             0.121050  \n",
       "9   [0.1887173, 0.20132558, 0.1527806, 0.13977079,...             0.124751  \n",
       "10  [0.7931803, 0.5931403, 0.50072795, 0.42749414,...             0.141094  \n",
       "11  [0.8908181, 0.6468381, 0.5378789, 0.45292285, ...             0.148685  \n",
       "12  [0.31117365, 0.2262723, 0.17139125, 0.16537625...             0.155456  \n",
       "13  [2.0699055, 0.8425128, 0.6800552, 0.60095024, ...             0.196994  \n",
       "14  [2.0476534, 1.2044941, 0.82566386, 0.70229405,...             0.206717  \n",
       "15  [0.9795337, 0.7334736, 0.6304331, 0.5544304, 0...             0.247714  \n",
       "16  [2.265683, 1.9279133, 0.931711, 0.7500613, 0.6...             0.255935  \n",
       "17  [2.2371218, 1.8956276, 1.0127889, 0.76667327, ...             0.256526  \n",
       "18  [0.7592161, 0.6366796, 0.5746766, 0.5314751, 0...             0.272669  \n",
       "19  [2.2684076, 2.1938667, 1.951539, 1.2951225, 0....             0.274727  \n",
       "20  [1.0240973, 0.5321122, 0.45481393, 0.40601173,...             0.316624  \n",
       "21  [2.2500784, 2.1172163, 1.6936926, 1.1385967, 0...             0.319477  \n",
       "22  [0.7062659, 0.5714282, 0.47529277, 0.44671476,...             0.319728  \n",
       "23  [2.2706678, 2.1689837, 1.7096077, 1.0279416, 0...             0.378270  \n",
       "24  [0.6956337, 0.537819, 0.4814384, 0.44662502, 0...             0.396003  \n",
       "25  [2.2979715, 2.2897766, 2.279189, 2.2629235, 2....             0.401706  \n",
       "26  [1.7729539, 0.90590477, 0.74513125, 0.68271595...             0.407989  \n",
       "27  [2.2933447, 2.1892302, 1.4472781, 0.9641995, 0...             0.424395  \n",
       "28  [1.4745773, 1.0272884, 0.8690233, 0.81008977, ...             0.483692  \n",
       "29  [2.2884455, 2.2713263, 2.248959, 2.2148752, 2....             0.509513  \n",
       "30  [2.3024616, 2.2988183, 2.2927446, 2.2855039, 2...             0.573920  \n",
       "31  [2.306938, 2.304823, 2.3034277, 2.3016355, 2.2...             0.610713  \n",
       "32  [1.9900036, 1.6815797, 1.4483395, 1.2885977, 1...             0.649767  \n",
       "33  [2.1902244, 2.0229514, 1.8398644, 1.6682142, 1...             0.707098  \n",
       "34  [2.1976326, 2.0696957, 1.9414641, 1.8200661, 1...             0.749340  \n",
       "35  [2.2158623, 2.1238363, 2.0267181, 1.9347181, 1...             0.889581  \n",
       "36  [2.2791972, 2.2591963, 2.2399666, 2.218092, 2....             1.368291  \n",
       "37  [2.296839, 2.29083, 2.2860239, 2.2814682, 2.27...             2.011502  \n",
       "38  [2.3015134, 2.301246, 2.3005564, 2.3001757, 2....             2.067523  \n",
       "39  [2.3053386, 2.304811, 2.3046367, 2.3044903, 2....             2.301111  "
      ]
     },
     "execution_count": 28,
     "metadata": {},
     "output_type": "execute_result"
    }
   ],
   "source": [
    "#train loss and val loss are array of the form (mean, std), we only need the means\n",
    "train_loss_means = [i[0] for i in train_loss]\n",
    "val_loss_means   = [i[0] for i in val_loss] \n",
    "results = pd.DataFrame([pars, train_loss_means, val_loss_means]).T\n",
    "results.columns = ['params', 'training_loss', 'val_loss']\n",
    "results['min_validation_loss'] = results.val_loss.apply(lambda x: np.min(x))\n",
    "results = results.sort_values('min_validation_loss').reset_index(drop = True)\n",
    "results.to_csv('results_classification.csv')\n",
    "results"
   ]
  },
  {
   "cell_type": "code",
   "execution_count": 29,
   "metadata": {
    "id": "wpSRR8BNLed3"
   },
   "outputs": [
    {
     "name": "stdout",
     "output_type": "stream",
     "text": [
      "Best set of parameters is: ------>\n",
      "{'n_channels': 16, 'drop': 0.028177680223283985, 'optimizer': 'adam', 'learn_r': 0.0008813867151903676, 'weight_dec': 0.0026925644098330795, 'device': device(type='cpu')}\n"
     ]
    }
   ],
   "source": [
    "print(\"Best set of parameters is: ------>\" )\n",
    "opt_set = results.params[0]\n",
    "print(opt_set)"
   ]
  },
  {
   "cell_type": "code",
   "execution_count": 30,
   "metadata": {
    "id": "b9Da6jwbPUvR"
   },
   "outputs": [
    {
     "data": {
      "image/png": "[encoded data removed]",
      "text/plain": [
       "<Figure size 864x432 with 2 Axes>"
      ]
     },
     "metadata": {
      "needs_background": "light"
     },
     "output_type": "display_data"
    }
   ],
   "source": [
    "fig, ax = plt.subplots(1,2, figsize = (12,6))\n",
    "for i in results.iterrows():\n",
    "    ax[0].plot(i[1].training_loss)\n",
    "    ax[1].plot(i[1].val_loss)\n",
    "ax[0].set_xlabel('Epoch')\n",
    "ax[1].set_xlabel('Epoch')\n",
    "ax[0].set_ylabel('Average train loss')\n",
    "ax[1].set_ylabel('Average validation loss')\n",
    "\n",
    "plt.show()"
   ]
  },
  {
   "cell_type": "markdown",
   "metadata": {
    "id": "g3x1KTcVPZk-"
   },
   "source": [
    "# Best network"
   ]
  },
  {
   "cell_type": "code",
   "execution_count": 31,
   "metadata": {
    "id": "c1CRTel6Payr"
   },
   "outputs": [],
   "source": [
    "n_channels = opt_set.get('n_channels')\n",
    "drop = opt_set.get('drop')\n",
    "optimizer = opt_set.get('optimizer')\n",
    "learn_r = opt_set.get('learn_r')\n",
    "weight_dec = opt_set.get('weight_dec')\n",
    "device = opt_set.get('device')"
   ]
  },
  {
   "cell_type": "code",
   "execution_count": 32,
   "metadata": {
    "id": "8N-sE-THPtou"
   },
   "outputs": [
    {
     "name": "stderr",
     "output_type": "stream",
     "text": [
      " 40% 24/60 [06:38<09:57, 16.61s/it]"
     ]
    },
    {
     "name": "stdout",
     "output_type": "stream",
     "text": [
      "Loss has not increased. Early stopping...\n"
     ]
    },
    {
     "name": "stderr",
     "output_type": "stream",
     "text": [
      "\n"
     ]
    }
   ],
   "source": [
    "#instantiate the best network\n",
    "best_network = Network(n_channels = n_channels, drop = drop).to(device)\n",
    "best_network.apply(reset_weights)\n",
    "optimizer = get_correct_optimizer(best_network, opt_set)\n",
    "#instantiate this dummy dict due to \"fit\" method implementation\n",
    "dummy_dict = {'optimizer': optimizer, 'n_epochs': 60, 'device': device} \n",
    "loss_function = nn.CrossEntropyLoss()\n",
    "\n",
    "train, test = best_network.fit_early_stop(train_load, valid_load, dummy_dict, loss_function,\n",
    "                                          True, 5)"
   ]
  },
  {
   "cell_type": "code",
   "execution_count": 33,
   "metadata": {
    "id": "39nGPm1vP41U"
   },
   "outputs": [
    {
     "data": {
      "image/png": "[encoded data removed]",
      "text/plain": [
       "<Figure size 576x432 with 1 Axes>"
      ]
     },
     "metadata": {
      "needs_background": "light"
     },
     "output_type": "display_data"
    }
   ],
   "source": [
    "#manual plotting\n",
    "plt.figure(figsize = (8,6))\n",
    "plt.plot(train[0,:], label = 'train')\n",
    "plt.plot(test[0,:], label = 'test')\n",
    "plt.xlabel('Epoch')\n",
    "plt.ylabel('Loss')\n",
    "plt.title('Loss vs epochs')\n",
    "plt.legend()\n",
    "plt.show()"
   ]
  },
  {
   "cell_type": "code",
   "execution_count": 59,
   "metadata": {},
   "outputs": [],
   "source": [
    "#save the network and the optimizer\n",
    "best_params_dict = best_network.state_dict()\n",
    "torch.save(best_params_dict, 'best_net_params_classification.torch')\n",
    "# save the optimizer\n",
    "torch.save(optimizer.state_dict(), 'best_net_optimizer_classification.torch')"
   ]
  },
  {
   "cell_type": "code",
   "execution_count": 26,
   "metadata": {},
   "outputs": [],
   "source": [
    "best_network = Network(n_channels = 16, drop = 0.028177680223283985).to(device)\n",
    "best_network.load_net('best_net_params_classification.torch')"
   ]
  },
  {
   "cell_type": "code",
   "execution_count": 30,
   "metadata": {},
   "outputs": [],
   "source": [
    "fit_dict = {'device': device, \n",
    "            'optimizer': optim.Adam(best_network.parameters()) ,\n",
    "            'n_epochs': 15\n",
    "            }"
   ]
  },
  {
   "cell_type": "code",
   "execution_count": 33,
   "metadata": {
    "id": "freZaubZQzt_"
   },
   "outputs": [
    {
     "name": "stdout",
     "output_type": "stream",
     "text": [
      "Simple model without optimization accuracy is:  0.9858\n",
      "Labels and frequencies in test set:  [ 980 1135 1032 1010  982  892  958 1028  974 1009]\n",
      "\n",
      " Confusion matrix (normalized)\n"
     ]
    },
    {
     "data": {
      "image/png": "[encoded data removed]",
      "text/plain": [
       "<Figure size 648x432 with 2 Axes>"
      ]
     },
     "metadata": {
      "needs_background": "light"
     },
     "output_type": "display_data"
    }
   ],
   "source": [
    "print(\"Simple model without optimization accuracy is: \", best_network.test( test_load , fit_dict ))\n",
    "#Analyze the predictions with a confusion matrix\n",
    "predictions = best_network.predict( test_load , fit_dict.get('device'))\n",
    "true_labels = np.array([x[1] for x in test_dataset])\n",
    "\n",
    "# for better aligned printing of confusion matrix use floatmode='fixed' (not supported in all versions of Python)\n",
    "np.set_printoptions(precision=4, suppress=True, floatmode = 'fixed')\n",
    "\n",
    "u, counts = np.unique(true_labels, return_counts=True)\n",
    "print(\"Labels and frequencies in test set: \", counts)\n",
    "\n",
    "confusion_test = skm.confusion_matrix( predictions, true_labels)\n",
    "\n",
    "print(\"\\n Confusion matrix (normalized)\")\n",
    "plt.figure(figsize = (9,6))\n",
    "sns.heatmap(confusion_test/counts[:,None], annot=True, fmt =  \"1.3f\" , cmap=\"Reds\" )\n",
    "plt.ylabel('True label', fontsize = 15)\n",
    "plt.xlabel('Predicted label', fontsize = 15)\n",
    "plt.show()"
   ]
  },
  {
   "cell_type": "markdown",
   "metadata": {
    "id": "IuWu6ZbspmfY"
   },
   "source": [
    "# Weights"
   ]
  },
  {
   "cell_type": "markdown",
   "metadata": {
    "id": "qB7xe0KGi2u4"
   },
   "source": [
    "### Convolutional layers"
   ]
  },
  {
   "cell_type": "code",
   "execution_count": 35,
   "metadata": {
    "id": "x3oCQKy2i8tq"
   },
   "outputs": [],
   "source": [
    "# First hidden layer\n",
    "conv1_weights = best_network.conv1.weight.data.cpu().numpy()\n",
    "conv2_weights = best_network.conv2.weight.data.cpu().numpy()"
   ]
  },
  {
   "cell_type": "code",
   "execution_count": 36,
   "metadata": {
    "id": "WKfKr9TDuahs"
   },
   "outputs": [
    {
     "data": {
      "image/png": "[encoded data removed]",
      "text/plain": [
       "<Figure size 1296x216 with 16 Axes>"
      ]
     },
     "metadata": {},
     "output_type": "display_data"
    }
   ],
   "source": [
    "fig, ax = plt.subplots(1,int(opt_set['n_channels']), figsize=(18, 3))\n",
    "\n",
    "for i in range(int(opt_set['n_channels'])):\n",
    "    ax[i].imshow( conv1_weights[i, 0, :, :], cmap='Greys')\n",
    "    ax[i].set_xticks([])\n",
    "    ax[i].set_yticks([])\n",
    "    \n",
    "fig.suptitle('Filters - Conv1 ', fontsize = 12)\n",
    "plt.savefig('filters_CL1_1.png')\n",
    "plt.show()"
   ]
  },
  {
   "cell_type": "code",
   "execution_count": 37,
   "metadata": {
    "id": "BA4UfS8Yual2"
   },
   "outputs": [
    {
     "data": {
      "image/png": "[encoded data removed]",
      "text/plain": [
       "<Figure size 1152x504 with 512 Axes>"
      ]
     },
     "metadata": {},
     "output_type": "display_data"
    }
   ],
   "source": [
    "fig, ax = plt.subplots(int(opt_set['n_channels']), 2*int(opt_set['n_channels']), figsize=(16, 7))\n",
    "\n",
    "for i in range(int(opt_set['n_channels'])):\n",
    "    for j in range(2*int(opt_set['n_channels'])):\n",
    "        ax[i,j].imshow( conv2_weights[j, i, :,:], cmap='Greys')\n",
    "        ax[i,j].set_xticks([])\n",
    "        ax[i,j].set_yticks([])\n",
    "    \n",
    "fig.suptitle('Filters - Conv2 ', fontsize = 12)\n",
    "plt.savefig('filters_CL1_2.png')\n",
    "plt.show()"
   ]
  },
  {
   "cell_type": "markdown",
   "metadata": {
    "id": "2bbSF7Omi2OS"
   },
   "source": [
    "### Dense layers"
   ]
  },
  {
   "cell_type": "code",
   "execution_count": 38,
   "metadata": {
    "id": "Lf2mwOhApQ11"
   },
   "outputs": [
    {
     "data": {
      "image/png": "[encoded data removed]",
      "text/plain": [
       "<Figure size 864x576 with 2 Axes>"
      ]
     },
     "metadata": {
      "needs_background": "light"
     },
     "output_type": "display_data"
    }
   ],
   "source": [
    "# First hidden layer\n",
    "h1_weight = best_network.fc1.weight.data.cpu().numpy()\n",
    "h1_bias   = best_network.fc1.bias.data.cpu().numpy()\n",
    "\n",
    "# Second hidden layer\n",
    "out_weight = best_network.out.weight.data.cpu().numpy()\n",
    "out_bias   = best_network.out.bias.data.cpu().numpy()\n",
    "\n",
    "# Weights histogram\n",
    "fig, axs = plt.subplots(2, 1, figsize=(12,8))\n",
    "axs[0].hist(h1_weight.flatten(), 50)\n",
    "axs[0].set_title('First hidden layer - Weights')\n",
    "\n",
    "axs[1].hist(out_weight.flatten(), 50)\n",
    "axs[1].set_title('Output layer - Weights')\n",
    "[ax.grid() for ax in axs]\n",
    "plt.tight_layout()\n",
    "plt.show()"
   ]
  },
  {
   "cell_type": "markdown",
   "metadata": {
    "id": "rKU8uKZorF0l"
   },
   "source": [
    "# Activations"
   ]
  },
  {
   "cell_type": "code",
   "execution_count": 39,
   "metadata": {
    "id": "2Bio6zgHq36S"
   },
   "outputs": [],
   "source": [
    "def get_activation(layer, input, output):\n",
    "    global activation\n",
    "    activation = torch.relu(output)"
   ]
  },
  {
   "cell_type": "markdown",
   "metadata": {
    "id": "ncv96CPyy9fE"
   },
   "source": [
    "### First layer"
   ]
  },
  {
   "cell_type": "code",
   "execution_count": 40,
   "metadata": {
    "id": "saDGcP9srE9o"
   },
   "outputs": [],
   "source": [
    "### Register hook  \n",
    "hook_handle1 = best_network.conv1.register_forward_hook(get_activation)\n",
    "\n",
    "#load a single image\n",
    "image_test = torch.utils.data.DataLoader(test_dataset, batch_size = 1, shuffle = True)\n",
    "\n",
    "### Analyze activations\n",
    "best_network.to(device).eval()\n",
    "\n",
    "with torch.no_grad():\n",
    "    for s_batch in image_test:\n",
    "        #save this image to be used later\n",
    "        my_image = s_batch\n",
    "        # Move data to device\n",
    "        x_first = my_image[0].to(device)\n",
    "        # Forward pass\n",
    "        y_first = best_network(x_first)\n",
    "        z_first = activation\n",
    "        break\n",
    "\n",
    "first_conv_layer_act = z_first.cpu().numpy()\n",
    "### Remove hook\n",
    "hook_handle1.remove()"
   ]
  },
  {
   "cell_type": "code",
   "execution_count": 58,
   "metadata": {
    "id": "0MsrBgJArFA8"
   },
   "outputs": [
    {
     "data": {
      "image/png": "[encoded data removed]",
      "text/plain": [
       "<Figure size 720x144 with 16 Axes>"
      ]
     },
     "metadata": {},
     "output_type": "display_data"
    }
   ],
   "source": [
    "## Plot the activations\n",
    "fig, ax = plt.subplots(2, int(opt_set.get('n_channels')/2), figsize=(10,2))\n",
    "for i in range(int(opt_set.get('n_channels'))):\n",
    "    ax[i%2, i//2].imshow( first_conv_layer_act[0, i, :, :], cmap='Greys')\n",
    "    ax[i%2, i//2].set_xticks([])\n",
    "    ax[i%2, i//2].set_yticks([])\n",
    "\n",
    "fig.suptitle('Activations - 1 Convolutional layer', fontsize = 12)    \n",
    "plt.tight_layout()\n",
    "plt.savefig('Conv1.png')\n",
    "plt.show()   "
   ]
  },
  {
   "cell_type": "markdown",
   "metadata": {
    "id": "S5IpWjrfzBh7"
   },
   "source": [
    "### Second layer"
   ]
  },
  {
   "cell_type": "code",
   "execution_count": 42,
   "metadata": {
    "id": "IaBaWYlFyyqf"
   },
   "outputs": [],
   "source": [
    "### Register hook  \n",
    "hook_handle2 = best_network.conv2.register_forward_hook(get_activation)\n",
    "\n",
    "with torch.no_grad():\n",
    "    for s_batch in image_test:\n",
    "        my_image = s_batch\n",
    "        # Move data to device\n",
    "        x_sec = my_image[0].to(device)\n",
    "        # Forward pass\n",
    "        y_sec = best_network(x_sec)\n",
    "        z_sec = activation\n",
    "        break\n",
    "        \n",
    "sec_conv_layer_act = z_sec.cpu().numpy()\n",
    "### Remove hook\n",
    "hook_handle2.remove()"
   ]
  },
  {
   "cell_type": "code",
   "execution_count": 53,
   "metadata": {
    "id": "FzXQytd9zNV1"
   },
   "outputs": [
    {
     "data": {
      "image/png": "[encoded data removed]",
      "text/plain": [
       "<Figure size 1440x216 with 32 Axes>"
      ]
     },
     "metadata": {},
     "output_type": "display_data"
    }
   ],
   "source": [
    "## Plot the activations\n",
    "fig, ax = plt.subplots(2, int(opt_set.get('n_channels')), figsize=(20,3))\n",
    "for i in range(int(2*opt_set.get('n_channels'))):\n",
    "    ax[i%2, i//2].imshow( sec_conv_layer_act[0, i, :, :], cmap='Greys')\n",
    "    ax[i%2, i//2].set_xticks([])\n",
    "    ax[i%2, i//2].set_yticks([])\n",
    "\n",
    "fig.suptitle('Activations - 2 Convolutional layer', fontsize = 30)    \n",
    "plt.tight_layout()\n",
    "plt.savefig('Conv2.png')\n",
    "plt.show()   "
   ]
  },
  {
   "cell_type": "code",
   "execution_count": 44,
   "metadata": {
    "id": "SSHQiaRPzPR8"
   },
   "outputs": [
    {
     "name": "stdout",
     "output_type": "stream",
     "text": [
      "The true label of this sample is: 1\n"
     ]
    },
    {
     "data": {
      "image/png": "[encoded data removed]",
      "text/plain": [
       "<Figure size 864x576 with 1 Axes>"
      ]
     },
     "metadata": {
      "needs_background": "light"
     },
     "output_type": "display_data"
    }
   ],
   "source": [
    "### Register hook  \n",
    "hook_handle_fin = best_network.out.register_forward_hook(get_activation)\n",
    "\n",
    "with torch.no_grad():\n",
    "    for s_batch in image_test:\n",
    "        # Move data to device\n",
    "        x_fin = s_batch[0].to(device)\n",
    "        # Forward pass\n",
    "        y_fin = best_network(x_fin)\n",
    "        z_fin = activation\n",
    "\n",
    "print(\"The true label of this sample is:\", int(s_batch[1][0].numpy()))\n",
    "final_layer_act = z_fin.cpu().numpy()\n",
    "### Remove hook\n",
    "hook_handle_fin.remove()\n",
    "\n",
    "\n",
    "\n",
    "### Plot activations\n",
    "fig, axs = plt.subplots(1, 1, figsize=(12,8))\n",
    "axs.stem(final_layer_act[0,:], use_line_collection=True)\n",
    "axs.set_title('Output layer activation for input x=%.2f' % int(s_batch[1][0].numpy()))\n",
    "\n",
    "plt.tight_layout()\n",
    "plt.show()"
   ]
  },
  {
   "cell_type": "code",
   "execution_count": null,
   "metadata": {
    "id": "l8hStkrm1FdR"
   },
   "outputs": [],
   "source": []
  },
  {
   "cell_type": "code",
   "execution_count": null,
   "metadata": {},
   "outputs": [],
   "source": []
  }
 ],
 "metadata": {
  "colab": {
   "collapsed_sections": [],
   "name": "HW1_Classification.ipynb",
   "provenance": [],
   "toc_visible": true
  },
  "kernelspec": {
   "display_name": "Python 3 (ipykernel)",
   "language": "python",
   "name": "python3"
  },
  "language_info": {
   "codemirror_mode": {
    "name": "ipython",
    "version": 3
   },
   "file_extension": ".py",
   "mimetype": "text/x-python",
   "name": "python",
   "nbconvert_exporter": "python",
   "pygments_lexer": "ipython3",
   "version": "3.8.8"
  },
  "widgets": {
   "application/vnd.jupyter.widget-state+json": {
    "02e25858389c4d00a0de4bf27ca75f60": {
     "model_module": "@jupyter-widgets/controls",
     "model_module_version": "1.5.0",
     "model_name": "HBoxModel",
     "state": {
      "_dom_classes": [],
      "_model_module": "@jupyter-widgets/controls",
      "_model_module_version": "1.5.0",
      "_model_name": "HBoxModel",
      "_view_count": null,
      "_view_module": "@jupyter-widgets/controls",
      "_view_module_version": "1.5.0",
      "_view_name": "HBoxView",
      "box_style": "",
      "children": [
       "IPY_MODEL_30af0058b8444c10b9877e231d5bd3a1",
       "IPY_MODEL_a19f30f250a6429182e095c3941b48dc"
      ],
      "layout": "IPY_MODEL_1b8452851e184f9892aec5917ae86e1d"
     }
    },
    "032e8535999844219a55a1db90d7a710": {
     "model_module": "@jupyter-widgets/controls",
     "model_module_version": "1.5.0",
     "model_name": "DescriptionStyleModel",
     "state": {
      "_model_module": "@jupyter-widgets/controls",
      "_model_module_version": "1.5.0",
      "_model_name": "DescriptionStyleModel",
      "_view_count": null,
      "_view_module": "@jupyter-widgets/base",
      "_view_module_version": "1.2.0",
      "_view_name": "StyleView",
      "description_width": ""
     }
    },
    "046fa83bca2a46e2a2224dc7306cb5dc": {
     "model_module": "@jupyter-widgets/controls",
     "model_module_version": "1.5.0",
     "model_name": "ProgressStyleModel",
     "state": {
      "_model_module": "@jupyter-widgets/controls",
      "_model_module_version": "1.5.0",
      "_model_name": "ProgressStyleModel",
      "_view_count": null,
      "_view_module": "@jupyter-widgets/base",
      "_view_module_version": "1.2.0",
      "_view_name": "StyleView",
      "bar_color": null,
      "description_width": "initial"
     }
    },
    "06d43d44e218471c88b37f38ee4d4dc0": {
     "model_module": "@jupyter-widgets/controls",
     "model_module_version": "1.5.0",
     "model_name": "HBoxModel",
     "state": {
      "_dom_classes": [],
      "_model_module": "@jupyter-widgets/controls",
      "_model_module_version": "1.5.0",
      "_model_name": "HBoxModel",
      "_view_count": null,
      "_view_module": "@jupyter-widgets/controls",
      "_view_module_version": "1.5.0",
      "_view_name": "HBoxView",
      "box_style": "",
      "children": [
       "IPY_MODEL_188ebb576c004849bed8cf5e9e406604",
       "IPY_MODEL_317a75aeaf054132a033ad59dfc9cdc8",
       "IPY_MODEL_6ee47be9ec8a4983bd9d85d3ea39cf1f"
      ],
      "layout": "IPY_MODEL_bbf156af8d2043219ee556a0f0ac1cd0"
     }
    },
    "090a0b017bc647b994b81ddad5e966fa": {
     "model_module": "@jupyter-widgets/controls",
     "model_module_version": "1.5.0",
     "model_name": "HBoxModel",
     "state": {
      "_dom_classes": [],
      "_model_module": "@jupyter-widgets/controls",
      "_model_module_version": "1.5.0",
      "_model_name": "HBoxModel",
      "_view_count": null,
      "_view_module": "@jupyter-widgets/controls",
      "_view_module_version": "1.5.0",
      "_view_name": "HBoxView",
      "box_style": "",
      "children": [
       "IPY_MODEL_5906708da3aa4a06b625e205a4615b26",
       "IPY_MODEL_c3b0cc28c64046b8b451ae4f8e007ddd",
       "IPY_MODEL_2209d74fd53548098c274fa7e9de25fd"
      ],
      "layout": "IPY_MODEL_9da458a5708b4b99914a0c920a52083d"
     }
    },
    "09ff8b906c604466b59a76e47d19ba63": {
     "model_module": "@jupyter-widgets/controls",
     "model_module_version": "1.5.0",
     "model_name": "ProgressStyleModel",
     "state": {
      "_model_module": "@jupyter-widgets/controls",
      "_model_module_version": "1.5.0",
      "_model_name": "ProgressStyleModel",
      "_view_count": null,
      "_view_module": "@jupyter-widgets/base",
      "_view_module_version": "1.2.0",
      "_view_name": "StyleView",
      "bar_color": null,
      "description_width": ""
     }
    },
    "0c42b91d08b84b50a27126e52976a09f": {
     "model_module": "@jupyter-widgets/base",
     "model_module_version": "1.2.0",
     "model_name": "LayoutModel",
     "state": {
      "_model_module": "@jupyter-widgets/base",
      "_model_module_version": "1.2.0",
      "_model_name": "LayoutModel",
      "_view_count": null,
      "_view_module": "@jupyter-widgets/base",
      "_view_module_version": "1.2.0",
      "_view_name": "LayoutView",
      "align_content": null,
      "align_items": null,
      "align_self": null,
      "border": null,
      "bottom": null,
      "display": null,
      "flex": null,
      "flex_flow": null,
      "grid_area": null,
      "grid_auto_columns": null,
      "grid_auto_flow": null,
      "grid_auto_rows": null,
      "grid_column": null,
      "grid_gap": null,
      "grid_row": null,
      "grid_template_areas": null,
      "grid_template_columns": null,
      "grid_template_rows": null,
      "height": null,
      "justify_content": null,
      "justify_items": null,
      "left": null,
      "margin": null,
      "max_height": null,
      "max_width": null,
      "min_height": null,
      "min_width": null,
      "object_fit": null,
      "object_position": null,
      "order": null,
      "overflow": null,
      "overflow_x": null,
      "overflow_y": null,
      "padding": null,
      "right": null,
      "top": null,
      "visibility": null,
      "width": null
     }
    },
    "0fb6f37a941646c9be2701610829927d": {
     "model_module": "@jupyter-widgets/controls",
     "model_module_version": "1.5.0",
     "model_name": "ProgressStyleModel",
     "state": {
      "_model_module": "@jupyter-widgets/controls",
      "_model_module_version": "1.5.0",
      "_model_name": "ProgressStyleModel",
      "_view_count": null,
      "_view_module": "@jupyter-widgets/base",
      "_view_module_version": "1.2.0",
      "_view_name": "StyleView",
      "bar_color": null,
      "description_width": "initial"
     }
    },
    "1067a6b722594bb5bcadb56e7c43323f": {
     "model_module": "@jupyter-widgets/controls",
     "model_module_version": "1.5.0",
     "model_name": "DescriptionStyleModel",
     "state": {
      "_model_module": "@jupyter-widgets/controls",
      "_model_module_version": "1.5.0",
      "_model_name": "DescriptionStyleModel",
      "_view_count": null,
      "_view_module": "@jupyter-widgets/base",
      "_view_module_version": "1.2.0",
      "_view_name": "StyleView",
      "description_width": ""
     }
    },
    "122c63a168e24186a30b2491c295f229": {
     "model_module": "@jupyter-widgets/controls",
     "model_module_version": "1.5.0",
     "model_name": "HBoxModel",
     "state": {
      "_dom_classes": [],
      "_model_module": "@jupyter-widgets/controls",
      "_model_module_version": "1.5.0",
      "_model_name": "HBoxModel",
      "_view_count": null,
      "_view_module": "@jupyter-widgets/controls",
      "_view_module_version": "1.5.0",
      "_view_name": "HBoxView",
      "box_style": "",
      "children": [
       "IPY_MODEL_f7e66e1aaea9415bba58b4d2cf24a1ef",
       "IPY_MODEL_5dc63ff280d54b7996a260e22fe41734"
      ],
      "layout": "IPY_MODEL_fecc0ed99d2644f1ba65fa6eb899535f"
     }
    },
    "188ebb576c004849bed8cf5e9e406604": {
     "model_module": "@jupyter-widgets/controls",
     "model_module_version": "1.5.0",
     "model_name": "HTMLModel",
     "state": {
      "_dom_classes": [],
      "_model_module": "@jupyter-widgets/controls",
      "_model_module_version": "1.5.0",
      "_model_name": "HTMLModel",
      "_view_count": null,
      "_view_module": "@jupyter-widgets/controls",
      "_view_module_version": "1.5.0",
      "_view_name": "HTMLView",
      "description": "",
      "description_tooltip": null,
      "layout": "IPY_MODEL_4200009b55de4659b6124b127988961f",
      "placeholder": "​",
      "style": "IPY_MODEL_effd409755854a3287632786b50fcaeb",
      "value": ""
     }
    },
    "1b8452851e184f9892aec5917ae86e1d": {
     "model_module": "@jupyter-widgets/base",
     "model_module_version": "1.2.0",
     "model_name": "LayoutModel",
     "state": {
      "_model_module": "@jupyter-widgets/base",
      "_model_module_version": "1.2.0",
      "_model_name": "LayoutModel",
      "_view_count": null,
      "_view_module": "@jupyter-widgets/base",
      "_view_module_version": "1.2.0",
      "_view_name": "LayoutView",
      "align_content": null,
      "align_items": null,
      "align_self": null,
      "border": null,
      "bottom": null,
      "display": null,
      "flex": null,
      "flex_flow": null,
      "grid_area": null,
      "grid_auto_columns": null,
      "grid_auto_flow": null,
      "grid_auto_rows": null,
      "grid_column": null,
      "grid_gap": null,
      "grid_row": null,
      "grid_template_areas": null,
      "grid_template_columns": null,
      "grid_template_rows": null,
      "height": null,
      "justify_content": null,
      "justify_items": null,
      "left": null,
      "margin": null,
      "max_height": null,
      "max_width": null,
      "min_height": null,
      "min_width": null,
      "object_fit": null,
      "object_position": null,
      "order": null,
      "overflow": null,
      "overflow_x": null,
      "overflow_y": null,
      "padding": null,
      "right": null,
      "top": null,
      "visibility": null,
      "width": null
     }
    },
    "20d3fbc2a35a4e08a6fce0fee7e1f1f9": {
     "model_module": "@jupyter-widgets/controls",
     "model_module_version": "1.5.0",
     "model_name": "ProgressStyleModel",
     "state": {
      "_model_module": "@jupyter-widgets/controls",
      "_model_module_version": "1.5.0",
      "_model_name": "ProgressStyleModel",
      "_view_count": null,
      "_view_module": "@jupyter-widgets/base",
      "_view_module_version": "1.2.0",
      "_view_name": "StyleView",
      "bar_color": null,
      "description_width": ""
     }
    },
    "2209d74fd53548098c274fa7e9de25fd": {
     "model_module": "@jupyter-widgets/controls",
     "model_module_version": "1.5.0",
     "model_name": "HTMLModel",
     "state": {
      "_dom_classes": [],
      "_model_module": "@jupyter-widgets/controls",
      "_model_module_version": "1.5.0",
      "_model_name": "HTMLModel",
      "_view_count": null,
      "_view_module": "@jupyter-widgets/controls",
      "_view_module_version": "1.5.0",
      "_view_name": "HTMLView",
      "description": "",
      "description_tooltip": null,
      "layout": "IPY_MODEL_b1d0efa6a65c4a65adf080345cd72fb2",
      "placeholder": "​",
      "style": "IPY_MODEL_54c8103eb1e3448cae4753eb0eb1e8b7",
      "value": " 1649664/? [00:00&lt;00:00, 1658092.10it/s]"
     }
    },
    "235084d3eb584a14b1f1c618a2ee3721": {
     "model_module": "@jupyter-widgets/controls",
     "model_module_version": "1.5.0",
     "model_name": "HTMLModel",
     "state": {
      "_dom_classes": [],
      "_model_module": "@jupyter-widgets/controls",
      "_model_module_version": "1.5.0",
      "_model_name": "HTMLModel",
      "_view_count": null,
      "_view_module": "@jupyter-widgets/controls",
      "_view_module_version": "1.5.0",
      "_view_name": "HTMLView",
      "description": "",
      "description_tooltip": null,
      "layout": "IPY_MODEL_74e91afcbc5147f48ebae3c9ad8007e9",
      "placeholder": "​",
      "style": "IPY_MODEL_032e8535999844219a55a1db90d7a710",
      "value": ""
     }
    },
    "274c1947701d4b56905856c03ba0b378": {
     "model_module": "@jupyter-widgets/base",
     "model_module_version": "1.2.0",
     "model_name": "LayoutModel",
     "state": {
      "_model_module": "@jupyter-widgets/base",
      "_model_module_version": "1.2.0",
      "_model_name": "LayoutModel",
      "_view_count": null,
      "_view_module": "@jupyter-widgets/base",
      "_view_module_version": "1.2.0",
      "_view_name": "LayoutView",
      "align_content": null,
      "align_items": null,
      "align_self": null,
      "border": null,
      "bottom": null,
      "display": null,
      "flex": null,
      "flex_flow": null,
      "grid_area": null,
      "grid_auto_columns": null,
      "grid_auto_flow": null,
      "grid_auto_rows": null,
      "grid_column": null,
      "grid_gap": null,
      "grid_row": null,
      "grid_template_areas": null,
      "grid_template_columns": null,
      "grid_template_rows": null,
      "height": null,
      "justify_content": null,
      "justify_items": null,
      "left": null,
      "margin": null,
      "max_height": null,
      "max_width": null,
      "min_height": null,
      "min_width": null,
      "object_fit": null,
      "object_position": null,
      "order": null,
      "overflow": null,
      "overflow_x": null,
      "overflow_y": null,
      "padding": null,
      "right": null,
      "top": null,
      "visibility": null,
      "width": null
     }
    },
    "2800ef30d3114c20aef60f6678503959": {
     "model_module": "@jupyter-widgets/base",
     "model_module_version": "1.2.0",
     "model_name": "LayoutModel",
     "state": {
      "_model_module": "@jupyter-widgets/base",
      "_model_module_version": "1.2.0",
      "_model_name": "LayoutModel",
      "_view_count": null,
      "_view_module": "@jupyter-widgets/base",
      "_view_module_version": "1.2.0",
      "_view_name": "LayoutView",
      "align_content": null,
      "align_items": null,
      "align_self": null,
      "border": null,
      "bottom": null,
      "display": null,
      "flex": null,
      "flex_flow": null,
      "grid_area": null,
      "grid_auto_columns": null,
      "grid_auto_flow": null,
      "grid_auto_rows": null,
      "grid_column": null,
      "grid_gap": null,
      "grid_row": null,
      "grid_template_areas": null,
      "grid_template_columns": null,
      "grid_template_rows": null,
      "height": null,
      "justify_content": null,
      "justify_items": null,
      "left": null,
      "margin": null,
      "max_height": null,
      "max_width": null,
      "min_height": null,
      "min_width": null,
      "object_fit": null,
      "object_position": null,
      "order": null,
      "overflow": null,
      "overflow_x": null,
      "overflow_y": null,
      "padding": null,
      "right": null,
      "top": null,
      "visibility": null,
      "width": null
     }
    },
    "2dc453e3b2ee4bc1bb1e4b773ef12884": {
     "model_module": "@jupyter-widgets/base",
     "model_module_version": "1.2.0",
     "model_name": "LayoutModel",
     "state": {
      "_model_module": "@jupyter-widgets/base",
      "_model_module_version": "1.2.0",
      "_model_name": "LayoutModel",
      "_view_count": null,
      "_view_module": "@jupyter-widgets/base",
      "_view_module_version": "1.2.0",
      "_view_name": "LayoutView",
      "align_content": null,
      "align_items": null,
      "align_self": null,
      "border": null,
      "bottom": null,
      "display": null,
      "flex": null,
      "flex_flow": null,
      "grid_area": null,
      "grid_auto_columns": null,
      "grid_auto_flow": null,
      "grid_auto_rows": null,
      "grid_column": null,
      "grid_gap": null,
      "grid_row": null,
      "grid_template_areas": null,
      "grid_template_columns": null,
      "grid_template_rows": null,
      "height": null,
      "justify_content": null,
      "justify_items": null,
      "left": null,
      "margin": null,
      "max_height": null,
      "max_width": null,
      "min_height": null,
      "min_width": null,
      "object_fit": null,
      "object_position": null,
      "order": null,
      "overflow": null,
      "overflow_x": null,
      "overflow_y": null,
      "padding": null,
      "right": null,
      "top": null,
      "visibility": null,
      "width": null
     }
    },
    "30af0058b8444c10b9877e231d5bd3a1": {
     "model_module": "@jupyter-widgets/controls",
     "model_module_version": "1.5.0",
     "model_name": "FloatProgressModel",
     "state": {
      "_dom_classes": [],
      "_model_module": "@jupyter-widgets/controls",
      "_model_module_version": "1.5.0",
      "_model_name": "FloatProgressModel",
      "_view_count": null,
      "_view_module": "@jupyter-widgets/controls",
      "_view_module_version": "1.5.0",
      "_view_name": "ProgressView",
      "bar_style": "success",
      "description": "",
      "description_tooltip": null,
      "layout": "IPY_MODEL_3ddfb0aed2f34f3582f4b4bb3246cd9e",
      "max": 1648877,
      "min": 0,
      "orientation": "horizontal",
      "style": "IPY_MODEL_97f53612c9464ee188a2c78d1e87b830",
      "value": 1648877
     }
    },
    "317a75aeaf054132a033ad59dfc9cdc8": {
     "model_module": "@jupyter-widgets/controls",
     "model_module_version": "1.5.0",
     "model_name": "FloatProgressModel",
     "state": {
      "_dom_classes": [],
      "_model_module": "@jupyter-widgets/controls",
      "_model_module_version": "1.5.0",
      "_model_name": "FloatProgressModel",
      "_view_count": null,
      "_view_module": "@jupyter-widgets/controls",
      "_view_module_version": "1.5.0",
      "_view_name": "ProgressView",
      "bar_style": "success",
      "description": "",
      "description_tooltip": null,
      "layout": "IPY_MODEL_94493ec2486d4cd9a5be5d4cfdb64ed0",
      "max": 9912422,
      "min": 0,
      "orientation": "horizontal",
      "style": "IPY_MODEL_09ff8b906c604466b59a76e47d19ba63",
      "value": 9912422
     }
    },
    "381f517776a641baad715795d6329264": {
     "model_module": "@jupyter-widgets/base",
     "model_module_version": "1.2.0",
     "model_name": "LayoutModel",
     "state": {
      "_model_module": "@jupyter-widgets/base",
      "_model_module_version": "1.2.0",
      "_model_name": "LayoutModel",
      "_view_count": null,
      "_view_module": "@jupyter-widgets/base",
      "_view_module_version": "1.2.0",
      "_view_name": "LayoutView",
      "align_content": null,
      "align_items": null,
      "align_self": null,
      "border": null,
      "bottom": null,
      "display": null,
      "flex": null,
      "flex_flow": null,
      "grid_area": null,
      "grid_auto_columns": null,
      "grid_auto_flow": null,
      "grid_auto_rows": null,
      "grid_column": null,
      "grid_gap": null,
      "grid_row": null,
      "grid_template_areas": null,
      "grid_template_columns": null,
      "grid_template_rows": null,
      "height": null,
      "justify_content": null,
      "justify_items": null,
      "left": null,
      "margin": null,
      "max_height": null,
      "max_width": null,
      "min_height": null,
      "min_width": null,
      "object_fit": null,
      "object_position": null,
      "order": null,
      "overflow": null,
      "overflow_x": null,
      "overflow_y": null,
      "padding": null,
      "right": null,
      "top": null,
      "visibility": null,
      "width": null
     }
    },
    "3cf15a8061984701a2bd8bd3186a5623": {
     "model_module": "@jupyter-widgets/base",
     "model_module_version": "1.2.0",
     "model_name": "LayoutModel",
     "state": {
      "_model_module": "@jupyter-widgets/base",
      "_model_module_version": "1.2.0",
      "_model_name": "LayoutModel",
      "_view_count": null,
      "_view_module": "@jupyter-widgets/base",
      "_view_module_version": "1.2.0",
      "_view_name": "LayoutView",
      "align_content": null,
      "align_items": null,
      "align_self": null,
      "border": null,
      "bottom": null,
      "display": null,
      "flex": null,
      "flex_flow": null,
      "grid_area": null,
      "grid_auto_columns": null,
      "grid_auto_flow": null,
      "grid_auto_rows": null,
      "grid_column": null,
      "grid_gap": null,
      "grid_row": null,
      "grid_template_areas": null,
      "grid_template_columns": null,
      "grid_template_rows": null,
      "height": null,
      "justify_content": null,
      "justify_items": null,
      "left": null,
      "margin": null,
      "max_height": null,
      "max_width": null,
      "min_height": null,
      "min_width": null,
      "object_fit": null,
      "object_position": null,
      "order": null,
      "overflow": null,
      "overflow_x": null,
      "overflow_y": null,
      "padding": null,
      "right": null,
      "top": null,
      "visibility": null,
      "width": null
     }
    },
    "3ddfb0aed2f34f3582f4b4bb3246cd9e": {
     "model_module": "@jupyter-widgets/base",
     "model_module_version": "1.2.0",
     "model_name": "LayoutModel",
     "state": {
      "_model_module": "@jupyter-widgets/base",
      "_model_module_version": "1.2.0",
      "_model_name": "LayoutModel",
      "_view_count": null,
      "_view_module": "@jupyter-widgets/base",
      "_view_module_version": "1.2.0",
      "_view_name": "LayoutView",
      "align_content": null,
      "align_items": null,
      "align_self": null,
      "border": null,
      "bottom": null,
      "display": null,
      "flex": null,
      "flex_flow": null,
      "grid_area": null,
      "grid_auto_columns": null,
      "grid_auto_flow": null,
      "grid_auto_rows": null,
      "grid_column": null,
      "grid_gap": null,
      "grid_row": null,
      "grid_template_areas": null,
      "grid_template_columns": null,
      "grid_template_rows": null,
      "height": null,
      "justify_content": null,
      "justify_items": null,
      "left": null,
      "margin": null,
      "max_height": null,
      "max_width": null,
      "min_height": null,
      "min_width": null,
      "object_fit": null,
      "object_position": null,
      "order": null,
      "overflow": null,
      "overflow_x": null,
      "overflow_y": null,
      "padding": null,
      "right": null,
      "top": null,
      "visibility": null,
      "width": null
     }
    },
    "3e8fce756fca46b2aab3f2ec02b05627": {
     "model_module": "@jupyter-widgets/base",
     "model_module_version": "1.2.0",
     "model_name": "LayoutModel",
     "state": {
      "_model_module": "@jupyter-widgets/base",
      "_model_module_version": "1.2.0",
      "_model_name": "LayoutModel",
      "_view_count": null,
      "_view_module": "@jupyter-widgets/base",
      "_view_module_version": "1.2.0",
      "_view_name": "LayoutView",
      "align_content": null,
      "align_items": null,
      "align_self": null,
      "border": null,
      "bottom": null,
      "display": null,
      "flex": null,
      "flex_flow": null,
      "grid_area": null,
      "grid_auto_columns": null,
      "grid_auto_flow": null,
      "grid_auto_rows": null,
      "grid_column": null,
      "grid_gap": null,
      "grid_row": null,
      "grid_template_areas": null,
      "grid_template_columns": null,
      "grid_template_rows": null,
      "height": null,
      "justify_content": null,
      "justify_items": null,
      "left": null,
      "margin": null,
      "max_height": null,
      "max_width": null,
      "min_height": null,
      "min_width": null,
      "object_fit": null,
      "object_position": null,
      "order": null,
      "overflow": null,
      "overflow_x": null,
      "overflow_y": null,
      "padding": null,
      "right": null,
      "top": null,
      "visibility": null,
      "width": null
     }
    },
    "404e96cd56e740e3a72b134311402506": {
     "model_module": "@jupyter-widgets/controls",
     "model_module_version": "1.5.0",
     "model_name": "HTMLModel",
     "state": {
      "_dom_classes": [],
      "_model_module": "@jupyter-widgets/controls",
      "_model_module_version": "1.5.0",
      "_model_name": "HTMLModel",
      "_view_count": null,
      "_view_module": "@jupyter-widgets/controls",
      "_view_module_version": "1.5.0",
      "_view_name": "HTMLView",
      "description": "",
      "description_tooltip": null,
      "layout": "IPY_MODEL_3e8fce756fca46b2aab3f2ec02b05627",
      "placeholder": "​",
      "style": "IPY_MODEL_8a0b9f628da347dd8931cab1bd17a10d",
      "value": " 29696/? [00:00&lt;00:00, 93868.60it/s]"
     }
    },
    "4200009b55de4659b6124b127988961f": {
     "model_module": "@jupyter-widgets/base",
     "model_module_version": "1.2.0",
     "model_name": "LayoutModel",
     "state": {
      "_model_module": "@jupyter-widgets/base",
      "_model_module_version": "1.2.0",
      "_model_name": "LayoutModel",
      "_view_count": null,
      "_view_module": "@jupyter-widgets/base",
      "_view_module_version": "1.2.0",
      "_view_name": "LayoutView",
      "align_content": null,
      "align_items": null,
      "align_self": null,
      "border": null,
      "bottom": null,
      "display": null,
      "flex": null,
      "flex_flow": null,
      "grid_area": null,
      "grid_auto_columns": null,
      "grid_auto_flow": null,
      "grid_auto_rows": null,
      "grid_column": null,
      "grid_gap": null,
      "grid_row": null,
      "grid_template_areas": null,
      "grid_template_columns": null,
      "grid_template_rows": null,
      "height": null,
      "justify_content": null,
      "justify_items": null,
      "left": null,
      "margin": null,
      "max_height": null,
      "max_width": null,
      "min_height": null,
      "min_width": null,
      "object_fit": null,
      "object_position": null,
      "order": null,
      "overflow": null,
      "overflow_x": null,
      "overflow_y": null,
      "padding": null,
      "right": null,
      "top": null,
      "visibility": null,
      "width": null
     }
    },
    "45e685fe464d435a8ea801c8b99bda58": {
     "model_module": "@jupyter-widgets/controls",
     "model_module_version": "1.5.0",
     "model_name": "FloatProgressModel",
     "state": {
      "_dom_classes": [],
      "_model_module": "@jupyter-widgets/controls",
      "_model_module_version": "1.5.0",
      "_model_name": "FloatProgressModel",
      "_view_count": null,
      "_view_module": "@jupyter-widgets/controls",
      "_view_module_version": "1.5.0",
      "_view_name": "ProgressView",
      "bar_style": "success",
      "description": "",
      "description_tooltip": null,
      "layout": "IPY_MODEL_381f517776a641baad715795d6329264",
      "max": 4542,
      "min": 0,
      "orientation": "horizontal",
      "style": "IPY_MODEL_492c7ecd247240c1875ec206719ba9dc",
      "value": 4542
     }
    },
    "492c7ecd247240c1875ec206719ba9dc": {
     "model_module": "@jupyter-widgets/controls",
     "model_module_version": "1.5.0",
     "model_name": "ProgressStyleModel",
     "state": {
      "_model_module": "@jupyter-widgets/controls",
      "_model_module_version": "1.5.0",
      "_model_name": "ProgressStyleModel",
      "_view_count": null,
      "_view_module": "@jupyter-widgets/base",
      "_view_module_version": "1.2.0",
      "_view_name": "StyleView",
      "bar_color": null,
      "description_width": ""
     }
    },
    "4fe93d82e5f7428ab0b3b4ed5fe2b925": {
     "model_module": "@jupyter-widgets/base",
     "model_module_version": "1.2.0",
     "model_name": "LayoutModel",
     "state": {
      "_model_module": "@jupyter-widgets/base",
      "_model_module_version": "1.2.0",
      "_model_name": "LayoutModel",
      "_view_count": null,
      "_view_module": "@jupyter-widgets/base",
      "_view_module_version": "1.2.0",
      "_view_name": "LayoutView",
      "align_content": null,
      "align_items": null,
      "align_self": null,
      "border": null,
      "bottom": null,
      "display": null,
      "flex": null,
      "flex_flow": null,
      "grid_area": null,
      "grid_auto_columns": null,
      "grid_auto_flow": null,
      "grid_auto_rows": null,
      "grid_column": null,
      "grid_gap": null,
      "grid_row": null,
      "grid_template_areas": null,
      "grid_template_columns": null,
      "grid_template_rows": null,
      "height": null,
      "justify_content": null,
      "justify_items": null,
      "left": null,
      "margin": null,
      "max_height": null,
      "max_width": null,
      "min_height": null,
      "min_width": null,
      "object_fit": null,
      "object_position": null,
      "order": null,
      "overflow": null,
      "overflow_x": null,
      "overflow_y": null,
      "padding": null,
      "right": null,
      "top": null,
      "visibility": null,
      "width": null
     }
    },
    "54c8103eb1e3448cae4753eb0eb1e8b7": {
     "model_module": "@jupyter-widgets/controls",
     "model_module_version": "1.5.0",
     "model_name": "DescriptionStyleModel",
     "state": {
      "_model_module": "@jupyter-widgets/controls",
      "_model_module_version": "1.5.0",
      "_model_name": "DescriptionStyleModel",
      "_view_count": null,
      "_view_module": "@jupyter-widgets/base",
      "_view_module_version": "1.2.0",
      "_view_name": "StyleView",
      "description_width": ""
     }
    },
    "567b3a56237147c19f3091590199f2c8": {
     "model_module": "@jupyter-widgets/controls",
     "model_module_version": "1.5.0",
     "model_name": "FloatProgressModel",
     "state": {
      "_dom_classes": [],
      "_model_module": "@jupyter-widgets/controls",
      "_model_module_version": "1.5.0",
      "_model_name": "FloatProgressModel",
      "_view_count": null,
      "_view_module": "@jupyter-widgets/controls",
      "_view_module_version": "1.5.0",
      "_view_name": "ProgressView",
      "bar_style": "success",
      "description": "",
      "description_tooltip": null,
      "layout": "IPY_MODEL_e230a28d0567491a9c90eca0c4fd08c5",
      "max": 28881,
      "min": 0,
      "orientation": "horizontal",
      "style": "IPY_MODEL_20d3fbc2a35a4e08a6fce0fee7e1f1f9",
      "value": 28881
     }
    },
    "5906708da3aa4a06b625e205a4615b26": {
     "model_module": "@jupyter-widgets/controls",
     "model_module_version": "1.5.0",
     "model_name": "HTMLModel",
     "state": {
      "_dom_classes": [],
      "_model_module": "@jupyter-widgets/controls",
      "_model_module_version": "1.5.0",
      "_model_name": "HTMLModel",
      "_view_count": null,
      "_view_module": "@jupyter-widgets/controls",
      "_view_module_version": "1.5.0",
      "_view_name": "HTMLView",
      "description": "",
      "description_tooltip": null,
      "layout": "IPY_MODEL_2dc453e3b2ee4bc1bb1e4b773ef12884",
      "placeholder": "​",
      "style": "IPY_MODEL_1067a6b722594bb5bcadb56e7c43323f",
      "value": ""
     }
    },
    "5c83ecf3c156498b9413443c22a0b85b": {
     "model_module": "@jupyter-widgets/controls",
     "model_module_version": "1.5.0",
     "model_name": "ProgressStyleModel",
     "state": {
      "_model_module": "@jupyter-widgets/controls",
      "_model_module_version": "1.5.0",
      "_model_name": "ProgressStyleModel",
      "_view_count": null,
      "_view_module": "@jupyter-widgets/base",
      "_view_module_version": "1.2.0",
      "_view_name": "StyleView",
      "bar_color": null,
      "description_width": "initial"
     }
    },
    "5dc63ff280d54b7996a260e22fe41734": {
     "model_module": "@jupyter-widgets/controls",
     "model_module_version": "1.5.0",
     "model_name": "HTMLModel",
     "state": {
      "_dom_classes": [],
      "_model_module": "@jupyter-widgets/controls",
      "_model_module_version": "1.5.0",
      "_model_name": "HTMLModel",
      "_view_count": null,
      "_view_module": "@jupyter-widgets/controls",
      "_view_module_version": "1.5.0",
      "_view_name": "HTMLView",
      "description": "",
      "description_tooltip": null,
      "layout": "IPY_MODEL_3cf15a8061984701a2bd8bd3186a5623",
      "placeholder": "​",
      "style": "IPY_MODEL_ccd71afbce554f08b4fdb3aaa047945f",
      "value": " 5120/? [00:00&lt;00:00, 11604.72it/s]"
     }
    },
    "5e24a1080068436185eba786229f54b9": {
     "model_module": "@jupyter-widgets/base",
     "model_module_version": "1.2.0",
     "model_name": "LayoutModel",
     "state": {
      "_model_module": "@jupyter-widgets/base",
      "_model_module_version": "1.2.0",
      "_model_name": "LayoutModel",
      "_view_count": null,
      "_view_module": "@jupyter-widgets/base",
      "_view_module_version": "1.2.0",
      "_view_name": "LayoutView",
      "align_content": null,
      "align_items": null,
      "align_self": null,
      "border": null,
      "bottom": null,
      "display": null,
      "flex": null,
      "flex_flow": null,
      "grid_area": null,
      "grid_auto_columns": null,
      "grid_auto_flow": null,
      "grid_auto_rows": null,
      "grid_column": null,
      "grid_gap": null,
      "grid_row": null,
      "grid_template_areas": null,
      "grid_template_columns": null,
      "grid_template_rows": null,
      "height": null,
      "justify_content": null,
      "justify_items": null,
      "left": null,
      "margin": null,
      "max_height": null,
      "max_width": null,
      "min_height": null,
      "min_width": null,
      "object_fit": null,
      "object_position": null,
      "order": null,
      "overflow": null,
      "overflow_x": null,
      "overflow_y": null,
      "padding": null,
      "right": null,
      "top": null,
      "visibility": null,
      "width": null
     }
    },
    "600946e8b03e4df893914c7e6409e147": {
     "model_module": "@jupyter-widgets/controls",
     "model_module_version": "1.5.0",
     "model_name": "HTMLModel",
     "state": {
      "_dom_classes": [],
      "_model_module": "@jupyter-widgets/controls",
      "_model_module_version": "1.5.0",
      "_model_name": "HTMLModel",
      "_view_count": null,
      "_view_module": "@jupyter-widgets/controls",
      "_view_module_version": "1.5.0",
      "_view_name": "HTMLView",
      "description": "",
      "description_tooltip": null,
      "layout": "IPY_MODEL_274c1947701d4b56905856c03ba0b378",
      "placeholder": "​",
      "style": "IPY_MODEL_e77f5787955b499c91941fe97bfa38b8",
      "value": " 29696/? [00:00&lt;00:00, 349461.59it/s]"
     }
    },
    "6c4d1f4d4d434133b7d1c5c703c5c11a": {
     "model_module": "@jupyter-widgets/base",
     "model_module_version": "1.2.0",
     "model_name": "LayoutModel",
     "state": {
      "_model_module": "@jupyter-widgets/base",
      "_model_module_version": "1.2.0",
      "_model_name": "LayoutModel",
      "_view_count": null,
      "_view_module": "@jupyter-widgets/base",
      "_view_module_version": "1.2.0",
      "_view_name": "LayoutView",
      "align_content": null,
      "align_items": null,
      "align_self": null,
      "border": null,
      "bottom": null,
      "display": null,
      "flex": null,
      "flex_flow": null,
      "grid_area": null,
      "grid_auto_columns": null,
      "grid_auto_flow": null,
      "grid_auto_rows": null,
      "grid_column": null,
      "grid_gap": null,
      "grid_row": null,
      "grid_template_areas": null,
      "grid_template_columns": null,
      "grid_template_rows": null,
      "height": null,
      "justify_content": null,
      "justify_items": null,
      "left": null,
      "margin": null,
      "max_height": null,
      "max_width": null,
      "min_height": null,
      "min_width": null,
      "object_fit": null,
      "object_position": null,
      "order": null,
      "overflow": null,
      "overflow_x": null,
      "overflow_y": null,
      "padding": null,
      "right": null,
      "top": null,
      "visibility": null,
      "width": null
     }
    },
    "6ee47be9ec8a4983bd9d85d3ea39cf1f": {
     "model_module": "@jupyter-widgets/controls",
     "model_module_version": "1.5.0",
     "model_name": "HTMLModel",
     "state": {
      "_dom_classes": [],
      "_model_module": "@jupyter-widgets/controls",
      "_model_module_version": "1.5.0",
      "_model_name": "HTMLModel",
      "_view_count": null,
      "_view_module": "@jupyter-widgets/controls",
      "_view_module_version": "1.5.0",
      "_view_name": "HTMLView",
      "description": "",
      "description_tooltip": null,
      "layout": "IPY_MODEL_0c42b91d08b84b50a27126e52976a09f",
      "placeholder": "​",
      "style": "IPY_MODEL_ab19f635608c4e6a90b96841d014952e",
      "value": " 9913344/? [00:00&lt;00:00, 15421540.19it/s]"
     }
    },
    "714698e273084163a8dc7f68c6e4df42": {
     "model_module": "@jupyter-widgets/controls",
     "model_module_version": "1.5.0",
     "model_name": "HTMLModel",
     "state": {
      "_dom_classes": [],
      "_model_module": "@jupyter-widgets/controls",
      "_model_module_version": "1.5.0",
      "_model_name": "HTMLModel",
      "_view_count": null,
      "_view_module": "@jupyter-widgets/controls",
      "_view_module_version": "1.5.0",
      "_view_name": "HTMLView",
      "description": "",
      "description_tooltip": null,
      "layout": "IPY_MODEL_4fe93d82e5f7428ab0b3b4ed5fe2b925",
      "placeholder": "​",
      "style": "IPY_MODEL_7717d99cbcef4341818abc97ec3cca94",
      "value": " 9913344/? [00:52&lt;00:00, 187253.69it/s]"
     }
    },
    "74e91afcbc5147f48ebae3c9ad8007e9": {
     "model_module": "@jupyter-widgets/base",
     "model_module_version": "1.2.0",
     "model_name": "LayoutModel",
     "state": {
      "_model_module": "@jupyter-widgets/base",
      "_model_module_version": "1.2.0",
      "_model_name": "LayoutModel",
      "_view_count": null,
      "_view_module": "@jupyter-widgets/base",
      "_view_module_version": "1.2.0",
      "_view_name": "LayoutView",
      "align_content": null,
      "align_items": null,
      "align_self": null,
      "border": null,
      "bottom": null,
      "display": null,
      "flex": null,
      "flex_flow": null,
      "grid_area": null,
      "grid_auto_columns": null,
      "grid_auto_flow": null,
      "grid_auto_rows": null,
      "grid_column": null,
      "grid_gap": null,
      "grid_row": null,
      "grid_template_areas": null,
      "grid_template_columns": null,
      "grid_template_rows": null,
      "height": null,
      "justify_content": null,
      "justify_items": null,
      "left": null,
      "margin": null,
      "max_height": null,
      "max_width": null,
      "min_height": null,
      "min_width": null,
      "object_fit": null,
      "object_position": null,
      "order": null,
      "overflow": null,
      "overflow_x": null,
      "overflow_y": null,
      "padding": null,
      "right": null,
      "top": null,
      "visibility": null,
      "width": null
     }
    },
    "7717d99cbcef4341818abc97ec3cca94": {
     "model_module": "@jupyter-widgets/controls",
     "model_module_version": "1.5.0",
     "model_name": "DescriptionStyleModel",
     "state": {
      "_model_module": "@jupyter-widgets/controls",
      "_model_module_version": "1.5.0",
      "_model_name": "DescriptionStyleModel",
      "_view_count": null,
      "_view_module": "@jupyter-widgets/base",
      "_view_module_version": "1.2.0",
      "_view_name": "StyleView",
      "description_width": ""
     }
    },
    "78ac5ec6687d475c93e12e2f2952edf1": {
     "model_module": "@jupyter-widgets/base",
     "model_module_version": "1.2.0",
     "model_name": "LayoutModel",
     "state": {
      "_model_module": "@jupyter-widgets/base",
      "_model_module_version": "1.2.0",
      "_model_name": "LayoutModel",
      "_view_count": null,
      "_view_module": "@jupyter-widgets/base",
      "_view_module_version": "1.2.0",
      "_view_name": "LayoutView",
      "align_content": null,
      "align_items": null,
      "align_self": null,
      "border": null,
      "bottom": null,
      "display": null,
      "flex": null,
      "flex_flow": null,
      "grid_area": null,
      "grid_auto_columns": null,
      "grid_auto_flow": null,
      "grid_auto_rows": null,
      "grid_column": null,
      "grid_gap": null,
      "grid_row": null,
      "grid_template_areas": null,
      "grid_template_columns": null,
      "grid_template_rows": null,
      "height": null,
      "justify_content": null,
      "justify_items": null,
      "left": null,
      "margin": null,
      "max_height": null,
      "max_width": null,
      "min_height": null,
      "min_width": null,
      "object_fit": null,
      "object_position": null,
      "order": null,
      "overflow": null,
      "overflow_x": null,
      "overflow_y": null,
      "padding": null,
      "right": null,
      "top": null,
      "visibility": null,
      "width": null
     }
    },
    "796a4e0f6744457286252d85ae61dedc": {
     "model_module": "@jupyter-widgets/base",
     "model_module_version": "1.2.0",
     "model_name": "LayoutModel",
     "state": {
      "_model_module": "@jupyter-widgets/base",
      "_model_module_version": "1.2.0",
      "_model_name": "LayoutModel",
      "_view_count": null,
      "_view_module": "@jupyter-widgets/base",
      "_view_module_version": "1.2.0",
      "_view_name": "LayoutView",
      "align_content": null,
      "align_items": null,
      "align_self": null,
      "border": null,
      "bottom": null,
      "display": null,
      "flex": null,
      "flex_flow": null,
      "grid_area": null,
      "grid_auto_columns": null,
      "grid_auto_flow": null,
      "grid_auto_rows": null,
      "grid_column": null,
      "grid_gap": null,
      "grid_row": null,
      "grid_template_areas": null,
      "grid_template_columns": null,
      "grid_template_rows": null,
      "height": null,
      "justify_content": null,
      "justify_items": null,
      "left": null,
      "margin": null,
      "max_height": null,
      "max_width": null,
      "min_height": null,
      "min_width": null,
      "object_fit": null,
      "object_position": null,
      "order": null,
      "overflow": null,
      "overflow_x": null,
      "overflow_y": null,
      "padding": null,
      "right": null,
      "top": null,
      "visibility": null,
      "width": null
     }
    },
    "81622ab40a8e48659dfe6aa548f91634": {
     "model_module": "@jupyter-widgets/controls",
     "model_module_version": "1.5.0",
     "model_name": "DescriptionStyleModel",
     "state": {
      "_model_module": "@jupyter-widgets/controls",
      "_model_module_version": "1.5.0",
      "_model_name": "DescriptionStyleModel",
      "_view_count": null,
      "_view_module": "@jupyter-widgets/base",
      "_view_module_version": "1.2.0",
      "_view_name": "StyleView",
      "description_width": ""
     }
    },
    "82fd594968a44d168100cc16d3f12451": {
     "model_module": "@jupyter-widgets/controls",
     "model_module_version": "1.5.0",
     "model_name": "FloatProgressModel",
     "state": {
      "_dom_classes": [],
      "_model_module": "@jupyter-widgets/controls",
      "_model_module_version": "1.5.0",
      "_model_name": "FloatProgressModel",
      "_view_count": null,
      "_view_module": "@jupyter-widgets/controls",
      "_view_module_version": "1.5.0",
      "_view_name": "ProgressView",
      "bar_style": "success",
      "description": "",
      "description_tooltip": null,
      "layout": "IPY_MODEL_796a4e0f6744457286252d85ae61dedc",
      "max": 9912422,
      "min": 0,
      "orientation": "horizontal",
      "style": "IPY_MODEL_046fa83bca2a46e2a2224dc7306cb5dc",
      "value": 9912422
     }
    },
    "8a0b9f628da347dd8931cab1bd17a10d": {
     "model_module": "@jupyter-widgets/controls",
     "model_module_version": "1.5.0",
     "model_name": "DescriptionStyleModel",
     "state": {
      "_model_module": "@jupyter-widgets/controls",
      "_model_module_version": "1.5.0",
      "_model_name": "DescriptionStyleModel",
      "_view_count": null,
      "_view_module": "@jupyter-widgets/base",
      "_view_module_version": "1.2.0",
      "_view_name": "StyleView",
      "description_width": ""
     }
    },
    "9203483180e4433aa022778675504032": {
     "model_module": "@jupyter-widgets/controls",
     "model_module_version": "1.5.0",
     "model_name": "HTMLModel",
     "state": {
      "_dom_classes": [],
      "_model_module": "@jupyter-widgets/controls",
      "_model_module_version": "1.5.0",
      "_model_name": "HTMLModel",
      "_view_count": null,
      "_view_module": "@jupyter-widgets/controls",
      "_view_module_version": "1.5.0",
      "_view_name": "HTMLView",
      "description": "",
      "description_tooltip": null,
      "layout": "IPY_MODEL_5e24a1080068436185eba786229f54b9",
      "placeholder": "​",
      "style": "IPY_MODEL_db71ce4e81ed4b289f24bf2840086599",
      "value": ""
     }
    },
    "92ca42acd0544241bc473bb7eb6df9c4": {
     "model_module": "@jupyter-widgets/controls",
     "model_module_version": "1.5.0",
     "model_name": "HBoxModel",
     "state": {
      "_dom_classes": [],
      "_model_module": "@jupyter-widgets/controls",
      "_model_module_version": "1.5.0",
      "_model_name": "HBoxModel",
      "_view_count": null,
      "_view_module": "@jupyter-widgets/controls",
      "_view_module_version": "1.5.0",
      "_view_name": "HBoxView",
      "box_style": "",
      "children": [
       "IPY_MODEL_235084d3eb584a14b1f1c618a2ee3721",
       "IPY_MODEL_567b3a56237147c19f3091590199f2c8",
       "IPY_MODEL_600946e8b03e4df893914c7e6409e147"
      ],
      "layout": "IPY_MODEL_d956bba6060948dbb96bca1a627c7dfe"
     }
    },
    "94493ec2486d4cd9a5be5d4cfdb64ed0": {
     "model_module": "@jupyter-widgets/base",
     "model_module_version": "1.2.0",
     "model_name": "LayoutModel",
     "state": {
      "_model_module": "@jupyter-widgets/base",
      "_model_module_version": "1.2.0",
      "_model_name": "LayoutModel",
      "_view_count": null,
      "_view_module": "@jupyter-widgets/base",
      "_view_module_version": "1.2.0",
      "_view_name": "LayoutView",
      "align_content": null,
      "align_items": null,
      "align_self": null,
      "border": null,
      "bottom": null,
      "display": null,
      "flex": null,
      "flex_flow": null,
      "grid_area": null,
      "grid_auto_columns": null,
      "grid_auto_flow": null,
      "grid_auto_rows": null,
      "grid_column": null,
      "grid_gap": null,
      "grid_row": null,
      "grid_template_areas": null,
      "grid_template_columns": null,
      "grid_template_rows": null,
      "height": null,
      "justify_content": null,
      "justify_items": null,
      "left": null,
      "margin": null,
      "max_height": null,
      "max_width": null,
      "min_height": null,
      "min_width": null,
      "object_fit": null,
      "object_position": null,
      "order": null,
      "overflow": null,
      "overflow_x": null,
      "overflow_y": null,
      "padding": null,
      "right": null,
      "top": null,
      "visibility": null,
      "width": null
     }
    },
    "96a81d26f9464ea49e80df608ef902dc": {
     "model_module": "@jupyter-widgets/controls",
     "model_module_version": "1.5.0",
     "model_name": "FloatProgressModel",
     "state": {
      "_dom_classes": [],
      "_model_module": "@jupyter-widgets/controls",
      "_model_module_version": "1.5.0",
      "_model_name": "FloatProgressModel",
      "_view_count": null,
      "_view_module": "@jupyter-widgets/controls",
      "_view_module_version": "1.5.0",
      "_view_name": "ProgressView",
      "bar_style": "success",
      "description": "",
      "description_tooltip": null,
      "layout": "IPY_MODEL_affd40ad73a34a4ba8b55b68ee447d31",
      "max": 28881,
      "min": 0,
      "orientation": "horizontal",
      "style": "IPY_MODEL_0fb6f37a941646c9be2701610829927d",
      "value": 28881
     }
    },
    "97f53612c9464ee188a2c78d1e87b830": {
     "model_module": "@jupyter-widgets/controls",
     "model_module_version": "1.5.0",
     "model_name": "ProgressStyleModel",
     "state": {
      "_model_module": "@jupyter-widgets/controls",
      "_model_module_version": "1.5.0",
      "_model_name": "ProgressStyleModel",
      "_view_count": null,
      "_view_module": "@jupyter-widgets/base",
      "_view_module_version": "1.2.0",
      "_view_name": "StyleView",
      "bar_color": null,
      "description_width": "initial"
     }
    },
    "9da458a5708b4b99914a0c920a52083d": {
     "model_module": "@jupyter-widgets/base",
     "model_module_version": "1.2.0",
     "model_name": "LayoutModel",
     "state": {
      "_model_module": "@jupyter-widgets/base",
      "_model_module_version": "1.2.0",
      "_model_name": "LayoutModel",
      "_view_count": null,
      "_view_module": "@jupyter-widgets/base",
      "_view_module_version": "1.2.0",
      "_view_name": "LayoutView",
      "align_content": null,
      "align_items": null,
      "align_self": null,
      "border": null,
      "bottom": null,
      "display": null,
      "flex": null,
      "flex_flow": null,
      "grid_area": null,
      "grid_auto_columns": null,
      "grid_auto_flow": null,
      "grid_auto_rows": null,
      "grid_column": null,
      "grid_gap": null,
      "grid_row": null,
      "grid_template_areas": null,
      "grid_template_columns": null,
      "grid_template_rows": null,
      "height": null,
      "justify_content": null,
      "justify_items": null,
      "left": null,
      "margin": null,
      "max_height": null,
      "max_width": null,
      "min_height": null,
      "min_width": null,
      "object_fit": null,
      "object_position": null,
      "order": null,
      "overflow": null,
      "overflow_x": null,
      "overflow_y": null,
      "padding": null,
      "right": null,
      "top": null,
      "visibility": null,
      "width": null
     }
    },
    "a19f30f250a6429182e095c3941b48dc": {
     "model_module": "@jupyter-widgets/controls",
     "model_module_version": "1.5.0",
     "model_name": "HTMLModel",
     "state": {
      "_dom_classes": [],
      "_model_module": "@jupyter-widgets/controls",
      "_model_module_version": "1.5.0",
      "_model_name": "HTMLModel",
      "_view_count": null,
      "_view_module": "@jupyter-widgets/controls",
      "_view_module_version": "1.5.0",
      "_view_name": "HTMLView",
      "description": "",
      "description_tooltip": null,
      "layout": "IPY_MODEL_da6d105e4b9744b195a4545d01c8c85a",
      "placeholder": "​",
      "style": "IPY_MODEL_81622ab40a8e48659dfe6aa548f91634",
      "value": " 1649664/? [00:51&lt;00:00, 32018.73it/s]"
     }
    },
    "aac4be783a53469c97c0f3969089c89e": {
     "model_module": "@jupyter-widgets/base",
     "model_module_version": "1.2.0",
     "model_name": "LayoutModel",
     "state": {
      "_model_module": "@jupyter-widgets/base",
      "_model_module_version": "1.2.0",
      "_model_name": "LayoutModel",
      "_view_count": null,
      "_view_module": "@jupyter-widgets/base",
      "_view_module_version": "1.2.0",
      "_view_name": "LayoutView",
      "align_content": null,
      "align_items": null,
      "align_self": null,
      "border": null,
      "bottom": null,
      "display": null,
      "flex": null,
      "flex_flow": null,
      "grid_area": null,
      "grid_auto_columns": null,
      "grid_auto_flow": null,
      "grid_auto_rows": null,
      "grid_column": null,
      "grid_gap": null,
      "grid_row": null,
      "grid_template_areas": null,
      "grid_template_columns": null,
      "grid_template_rows": null,
      "height": null,
      "justify_content": null,
      "justify_items": null,
      "left": null,
      "margin": null,
      "max_height": null,
      "max_width": null,
      "min_height": null,
      "min_width": null,
      "object_fit": null,
      "object_position": null,
      "order": null,
      "overflow": null,
      "overflow_x": null,
      "overflow_y": null,
      "padding": null,
      "right": null,
      "top": null,
      "visibility": null,
      "width": null
     }
    },
    "ab19f635608c4e6a90b96841d014952e": {
     "model_module": "@jupyter-widgets/controls",
     "model_module_version": "1.5.0",
     "model_name": "DescriptionStyleModel",
     "state": {
      "_model_module": "@jupyter-widgets/controls",
      "_model_module_version": "1.5.0",
      "_model_name": "DescriptionStyleModel",
      "_view_count": null,
      "_view_module": "@jupyter-widgets/base",
      "_view_module_version": "1.2.0",
      "_view_name": "StyleView",
      "description_width": ""
     }
    },
    "ab93c0025b7b4fc3a7b2b3536e632f52": {
     "model_module": "@jupyter-widgets/controls",
     "model_module_version": "1.5.0",
     "model_name": "HBoxModel",
     "state": {
      "_dom_classes": [],
      "_model_module": "@jupyter-widgets/controls",
      "_model_module_version": "1.5.0",
      "_model_name": "HBoxModel",
      "_view_count": null,
      "_view_module": "@jupyter-widgets/controls",
      "_view_module_version": "1.5.0",
      "_view_name": "HBoxView",
      "box_style": "",
      "children": [
       "IPY_MODEL_9203483180e4433aa022778675504032",
       "IPY_MODEL_45e685fe464d435a8ea801c8b99bda58",
       "IPY_MODEL_ca1344f1e7d148ca8190958fb9ad4932"
      ],
      "layout": "IPY_MODEL_aeb1f62eaab046b7b5fc8c2c3460ee49"
     }
    },
    "aeb1f62eaab046b7b5fc8c2c3460ee49": {
     "model_module": "@jupyter-widgets/base",
     "model_module_version": "1.2.0",
     "model_name": "LayoutModel",
     "state": {
      "_model_module": "@jupyter-widgets/base",
      "_model_module_version": "1.2.0",
      "_model_name": "LayoutModel",
      "_view_count": null,
      "_view_module": "@jupyter-widgets/base",
      "_view_module_version": "1.2.0",
      "_view_name": "LayoutView",
      "align_content": null,
      "align_items": null,
      "align_self": null,
      "border": null,
      "bottom": null,
      "display": null,
      "flex": null,
      "flex_flow": null,
      "grid_area": null,
      "grid_auto_columns": null,
      "grid_auto_flow": null,
      "grid_auto_rows": null,
      "grid_column": null,
      "grid_gap": null,
      "grid_row": null,
      "grid_template_areas": null,
      "grid_template_columns": null,
      "grid_template_rows": null,
      "height": null,
      "justify_content": null,
      "justify_items": null,
      "left": null,
      "margin": null,
      "max_height": null,
      "max_width": null,
      "min_height": null,
      "min_width": null,
      "object_fit": null,
      "object_position": null,
      "order": null,
      "overflow": null,
      "overflow_x": null,
      "overflow_y": null,
      "padding": null,
      "right": null,
      "top": null,
      "visibility": null,
      "width": null
     }
    },
    "afdbeb5fca974f4f8b164160953dcada": {
     "model_module": "@jupyter-widgets/controls",
     "model_module_version": "1.5.0",
     "model_name": "HBoxModel",
     "state": {
      "_dom_classes": [],
      "_model_module": "@jupyter-widgets/controls",
      "_model_module_version": "1.5.0",
      "_model_name": "HBoxModel",
      "_view_count": null,
      "_view_module": "@jupyter-widgets/controls",
      "_view_module_version": "1.5.0",
      "_view_name": "HBoxView",
      "box_style": "",
      "children": [
       "IPY_MODEL_96a81d26f9464ea49e80df608ef902dc",
       "IPY_MODEL_404e96cd56e740e3a72b134311402506"
      ],
      "layout": "IPY_MODEL_aac4be783a53469c97c0f3969089c89e"
     }
    },
    "affd40ad73a34a4ba8b55b68ee447d31": {
     "model_module": "@jupyter-widgets/base",
     "model_module_version": "1.2.0",
     "model_name": "LayoutModel",
     "state": {
      "_model_module": "@jupyter-widgets/base",
      "_model_module_version": "1.2.0",
      "_model_name": "LayoutModel",
      "_view_count": null,
      "_view_module": "@jupyter-widgets/base",
      "_view_module_version": "1.2.0",
      "_view_name": "LayoutView",
      "align_content": null,
      "align_items": null,
      "align_self": null,
      "border": null,
      "bottom": null,
      "display": null,
      "flex": null,
      "flex_flow": null,
      "grid_area": null,
      "grid_auto_columns": null,
      "grid_auto_flow": null,
      "grid_auto_rows": null,
      "grid_column": null,
      "grid_gap": null,
      "grid_row": null,
      "grid_template_areas": null,
      "grid_template_columns": null,
      "grid_template_rows": null,
      "height": null,
      "justify_content": null,
      "justify_items": null,
      "left": null,
      "margin": null,
      "max_height": null,
      "max_width": null,
      "min_height": null,
      "min_width": null,
      "object_fit": null,
      "object_position": null,
      "order": null,
      "overflow": null,
      "overflow_x": null,
      "overflow_y": null,
      "padding": null,
      "right": null,
      "top": null,
      "visibility": null,
      "width": null
     }
    },
    "b1d0efa6a65c4a65adf080345cd72fb2": {
     "model_module": "@jupyter-widgets/base",
     "model_module_version": "1.2.0",
     "model_name": "LayoutModel",
     "state": {
      "_model_module": "@jupyter-widgets/base",
      "_model_module_version": "1.2.0",
      "_model_name": "LayoutModel",
      "_view_count": null,
      "_view_module": "@jupyter-widgets/base",
      "_view_module_version": "1.2.0",
      "_view_name": "LayoutView",
      "align_content": null,
      "align_items": null,
      "align_self": null,
      "border": null,
      "bottom": null,
      "display": null,
      "flex": null,
      "flex_flow": null,
      "grid_area": null,
      "grid_auto_columns": null,
      "grid_auto_flow": null,
      "grid_auto_rows": null,
      "grid_column": null,
      "grid_gap": null,
      "grid_row": null,
      "grid_template_areas": null,
      "grid_template_columns": null,
      "grid_template_rows": null,
      "height": null,
      "justify_content": null,
      "justify_items": null,
      "left": null,
      "margin": null,
      "max_height": null,
      "max_width": null,
      "min_height": null,
      "min_width": null,
      "object_fit": null,
      "object_position": null,
      "order": null,
      "overflow": null,
      "overflow_x": null,
      "overflow_y": null,
      "padding": null,
      "right": null,
      "top": null,
      "visibility": null,
      "width": null
     }
    },
    "bbf156af8d2043219ee556a0f0ac1cd0": {
     "model_module": "@jupyter-widgets/base",
     "model_module_version": "1.2.0",
     "model_name": "LayoutModel",
     "state": {
      "_model_module": "@jupyter-widgets/base",
      "_model_module_version": "1.2.0",
      "_model_name": "LayoutModel",
      "_view_count": null,
      "_view_module": "@jupyter-widgets/base",
      "_view_module_version": "1.2.0",
      "_view_name": "LayoutView",
      "align_content": null,
      "align_items": null,
      "align_self": null,
      "border": null,
      "bottom": null,
      "display": null,
      "flex": null,
      "flex_flow": null,
      "grid_area": null,
      "grid_auto_columns": null,
      "grid_auto_flow": null,
      "grid_auto_rows": null,
      "grid_column": null,
      "grid_gap": null,
      "grid_row": null,
      "grid_template_areas": null,
      "grid_template_columns": null,
      "grid_template_rows": null,
      "height": null,
      "justify_content": null,
      "justify_items": null,
      "left": null,
      "margin": null,
      "max_height": null,
      "max_width": null,
      "min_height": null,
      "min_width": null,
      "object_fit": null,
      "object_position": null,
      "order": null,
      "overflow": null,
      "overflow_x": null,
      "overflow_y": null,
      "padding": null,
      "right": null,
      "top": null,
      "visibility": null,
      "width": null
     }
    },
    "c3b0cc28c64046b8b451ae4f8e007ddd": {
     "model_module": "@jupyter-widgets/controls",
     "model_module_version": "1.5.0",
     "model_name": "FloatProgressModel",
     "state": {
      "_dom_classes": [],
      "_model_module": "@jupyter-widgets/controls",
      "_model_module_version": "1.5.0",
      "_model_name": "FloatProgressModel",
      "_view_count": null,
      "_view_module": "@jupyter-widgets/controls",
      "_view_module_version": "1.5.0",
      "_view_name": "ProgressView",
      "bar_style": "success",
      "description": "",
      "description_tooltip": null,
      "layout": "IPY_MODEL_2800ef30d3114c20aef60f6678503959",
      "max": 1648877,
      "min": 0,
      "orientation": "horizontal",
      "style": "IPY_MODEL_cce384f287c748e1ada96d593cdcc8e8",
      "value": 1648877
     }
    },
    "ca1344f1e7d148ca8190958fb9ad4932": {
     "model_module": "@jupyter-widgets/controls",
     "model_module_version": "1.5.0",
     "model_name": "HTMLModel",
     "state": {
      "_dom_classes": [],
      "_model_module": "@jupyter-widgets/controls",
      "_model_module_version": "1.5.0",
      "_model_name": "HTMLModel",
      "_view_count": null,
      "_view_module": "@jupyter-widgets/controls",
      "_view_module_version": "1.5.0",
      "_view_name": "HTMLView",
      "description": "",
      "description_tooltip": null,
      "layout": "IPY_MODEL_6c4d1f4d4d434133b7d1c5c703c5c11a",
      "placeholder": "​",
      "style": "IPY_MODEL_f483c8f95b4340218db81c624dd2d695",
      "value": " 5120/? [00:00&lt;00:00, 117477.87it/s]"
     }
    },
    "ccd71afbce554f08b4fdb3aaa047945f": {
     "model_module": "@jupyter-widgets/controls",
     "model_module_version": "1.5.0",
     "model_name": "DescriptionStyleModel",
     "state": {
      "_model_module": "@jupyter-widgets/controls",
      "_model_module_version": "1.5.0",
      "_model_name": "DescriptionStyleModel",
      "_view_count": null,
      "_view_module": "@jupyter-widgets/base",
      "_view_module_version": "1.2.0",
      "_view_name": "StyleView",
      "description_width": ""
     }
    },
    "cce384f287c748e1ada96d593cdcc8e8": {
     "model_module": "@jupyter-widgets/controls",
     "model_module_version": "1.5.0",
     "model_name": "ProgressStyleModel",
     "state": {
      "_model_module": "@jupyter-widgets/controls",
      "_model_module_version": "1.5.0",
      "_model_name": "ProgressStyleModel",
      "_view_count": null,
      "_view_module": "@jupyter-widgets/base",
      "_view_module_version": "1.2.0",
      "_view_name": "StyleView",
      "bar_color": null,
      "description_width": ""
     }
    },
    "d956bba6060948dbb96bca1a627c7dfe": {
     "model_module": "@jupyter-widgets/base",
     "model_module_version": "1.2.0",
     "model_name": "LayoutModel",
     "state": {
      "_model_module": "@jupyter-widgets/base",
      "_model_module_version": "1.2.0",
      "_model_name": "LayoutModel",
      "_view_count": null,
      "_view_module": "@jupyter-widgets/base",
      "_view_module_version": "1.2.0",
      "_view_name": "LayoutView",
      "align_content": null,
      "align_items": null,
      "align_self": null,
      "border": null,
      "bottom": null,
      "display": null,
      "flex": null,
      "flex_flow": null,
      "grid_area": null,
      "grid_auto_columns": null,
      "grid_auto_flow": null,
      "grid_auto_rows": null,
      "grid_column": null,
      "grid_gap": null,
      "grid_row": null,
      "grid_template_areas": null,
      "grid_template_columns": null,
      "grid_template_rows": null,
      "height": null,
      "justify_content": null,
      "justify_items": null,
      "left": null,
      "margin": null,
      "max_height": null,
      "max_width": null,
      "min_height": null,
      "min_width": null,
      "object_fit": null,
      "object_position": null,
      "order": null,
      "overflow": null,
      "overflow_x": null,
      "overflow_y": null,
      "padding": null,
      "right": null,
      "top": null,
      "visibility": null,
      "width": null
     }
    },
    "da6d105e4b9744b195a4545d01c8c85a": {
     "model_module": "@jupyter-widgets/base",
     "model_module_version": "1.2.0",
     "model_name": "LayoutModel",
     "state": {
      "_model_module": "@jupyter-widgets/base",
      "_model_module_version": "1.2.0",
      "_model_name": "LayoutModel",
      "_view_count": null,
      "_view_module": "@jupyter-widgets/base",
      "_view_module_version": "1.2.0",
      "_view_name": "LayoutView",
      "align_content": null,
      "align_items": null,
      "align_self": null,
      "border": null,
      "bottom": null,
      "display": null,
      "flex": null,
      "flex_flow": null,
      "grid_area": null,
      "grid_auto_columns": null,
      "grid_auto_flow": null,
      "grid_auto_rows": null,
      "grid_column": null,
      "grid_gap": null,
      "grid_row": null,
      "grid_template_areas": null,
      "grid_template_columns": null,
      "grid_template_rows": null,
      "height": null,
      "justify_content": null,
      "justify_items": null,
      "left": null,
      "margin": null,
      "max_height": null,
      "max_width": null,
      "min_height": null,
      "min_width": null,
      "object_fit": null,
      "object_position": null,
      "order": null,
      "overflow": null,
      "overflow_x": null,
      "overflow_y": null,
      "padding": null,
      "right": null,
      "top": null,
      "visibility": null,
      "width": null
     }
    },
    "db71ce4e81ed4b289f24bf2840086599": {
     "model_module": "@jupyter-widgets/controls",
     "model_module_version": "1.5.0",
     "model_name": "DescriptionStyleModel",
     "state": {
      "_model_module": "@jupyter-widgets/controls",
      "_model_module_version": "1.5.0",
      "_model_name": "DescriptionStyleModel",
      "_view_count": null,
      "_view_module": "@jupyter-widgets/base",
      "_view_module_version": "1.2.0",
      "_view_name": "StyleView",
      "description_width": ""
     }
    },
    "e230a28d0567491a9c90eca0c4fd08c5": {
     "model_module": "@jupyter-widgets/base",
     "model_module_version": "1.2.0",
     "model_name": "LayoutModel",
     "state": {
      "_model_module": "@jupyter-widgets/base",
      "_model_module_version": "1.2.0",
      "_model_name": "LayoutModel",
      "_view_count": null,
      "_view_module": "@jupyter-widgets/base",
      "_view_module_version": "1.2.0",
      "_view_name": "LayoutView",
      "align_content": null,
      "align_items": null,
      "align_self": null,
      "border": null,
      "bottom": null,
      "display": null,
      "flex": null,
      "flex_flow": null,
      "grid_area": null,
      "grid_auto_columns": null,
      "grid_auto_flow": null,
      "grid_auto_rows": null,
      "grid_column": null,
      "grid_gap": null,
      "grid_row": null,
      "grid_template_areas": null,
      "grid_template_columns": null,
      "grid_template_rows": null,
      "height": null,
      "justify_content": null,
      "justify_items": null,
      "left": null,
      "margin": null,
      "max_height": null,
      "max_width": null,
      "min_height": null,
      "min_width": null,
      "object_fit": null,
      "object_position": null,
      "order": null,
      "overflow": null,
      "overflow_x": null,
      "overflow_y": null,
      "padding": null,
      "right": null,
      "top": null,
      "visibility": null,
      "width": null
     }
    },
    "e77f5787955b499c91941fe97bfa38b8": {
     "model_module": "@jupyter-widgets/controls",
     "model_module_version": "1.5.0",
     "model_name": "DescriptionStyleModel",
     "state": {
      "_model_module": "@jupyter-widgets/controls",
      "_model_module_version": "1.5.0",
      "_model_name": "DescriptionStyleModel",
      "_view_count": null,
      "_view_module": "@jupyter-widgets/base",
      "_view_module_version": "1.2.0",
      "_view_name": "StyleView",
      "description_width": ""
     }
    },
    "e968378527094873a5499cb1318aafee": {
     "model_module": "@jupyter-widgets/base",
     "model_module_version": "1.2.0",
     "model_name": "LayoutModel",
     "state": {
      "_model_module": "@jupyter-widgets/base",
      "_model_module_version": "1.2.0",
      "_model_name": "LayoutModel",
      "_view_count": null,
      "_view_module": "@jupyter-widgets/base",
      "_view_module_version": "1.2.0",
      "_view_name": "LayoutView",
      "align_content": null,
      "align_items": null,
      "align_self": null,
      "border": null,
      "bottom": null,
      "display": null,
      "flex": null,
      "flex_flow": null,
      "grid_area": null,
      "grid_auto_columns": null,
      "grid_auto_flow": null,
      "grid_auto_rows": null,
      "grid_column": null,
      "grid_gap": null,
      "grid_row": null,
      "grid_template_areas": null,
      "grid_template_columns": null,
      "grid_template_rows": null,
      "height": null,
      "justify_content": null,
      "justify_items": null,
      "left": null,
      "margin": null,
      "max_height": null,
      "max_width": null,
      "min_height": null,
      "min_width": null,
      "object_fit": null,
      "object_position": null,
      "order": null,
      "overflow": null,
      "overflow_x": null,
      "overflow_y": null,
      "padding": null,
      "right": null,
      "top": null,
      "visibility": null,
      "width": null
     }
    },
    "ecc40b5da5b847eb9ab7014c78686f7f": {
     "model_module": "@jupyter-widgets/controls",
     "model_module_version": "1.5.0",
     "model_name": "HBoxModel",
     "state": {
      "_dom_classes": [],
      "_model_module": "@jupyter-widgets/controls",
      "_model_module_version": "1.5.0",
      "_model_name": "HBoxModel",
      "_view_count": null,
      "_view_module": "@jupyter-widgets/controls",
      "_view_module_version": "1.5.0",
      "_view_name": "HBoxView",
      "box_style": "",
      "children": [
       "IPY_MODEL_82fd594968a44d168100cc16d3f12451",
       "IPY_MODEL_714698e273084163a8dc7f68c6e4df42"
      ],
      "layout": "IPY_MODEL_e968378527094873a5499cb1318aafee"
     }
    },
    "effd409755854a3287632786b50fcaeb": {
     "model_module": "@jupyter-widgets/controls",
     "model_module_version": "1.5.0",
     "model_name": "DescriptionStyleModel",
     "state": {
      "_model_module": "@jupyter-widgets/controls",
      "_model_module_version": "1.5.0",
      "_model_name": "DescriptionStyleModel",
      "_view_count": null,
      "_view_module": "@jupyter-widgets/base",
      "_view_module_version": "1.2.0",
      "_view_name": "StyleView",
      "description_width": ""
     }
    },
    "f483c8f95b4340218db81c624dd2d695": {
     "model_module": "@jupyter-widgets/controls",
     "model_module_version": "1.5.0",
     "model_name": "DescriptionStyleModel",
     "state": {
      "_model_module": "@jupyter-widgets/controls",
      "_model_module_version": "1.5.0",
      "_model_name": "DescriptionStyleModel",
      "_view_count": null,
      "_view_module": "@jupyter-widgets/base",
      "_view_module_version": "1.2.0",
      "_view_name": "StyleView",
      "description_width": ""
     }
    },
    "f7e66e1aaea9415bba58b4d2cf24a1ef": {
     "model_module": "@jupyter-widgets/controls",
     "model_module_version": "1.5.0",
     "model_name": "FloatProgressModel",
     "state": {
      "_dom_classes": [],
      "_model_module": "@jupyter-widgets/controls",
      "_model_module_version": "1.5.0",
      "_model_name": "FloatProgressModel",
      "_view_count": null,
      "_view_module": "@jupyter-widgets/controls",
      "_view_module_version": "1.5.0",
      "_view_name": "ProgressView",
      "bar_style": "success",
      "description": "",
      "description_tooltip": null,
      "layout": "IPY_MODEL_78ac5ec6687d475c93e12e2f2952edf1",
      "max": 4542,
      "min": 0,
      "orientation": "horizontal",
      "style": "IPY_MODEL_5c83ecf3c156498b9413443c22a0b85b",
      "value": 4542
     }
    },
    "fecc0ed99d2644f1ba65fa6eb899535f": {
     "model_module": "@jupyter-widgets/base",
     "model_module_version": "1.2.0",
     "model_name": "LayoutModel",
     "state": {
      "_model_module": "@jupyter-widgets/base",
      "_model_module_version": "1.2.0",
      "_model_name": "LayoutModel",
      "_view_count": null,
      "_view_module": "@jupyter-widgets/base",
      "_view_module_version": "1.2.0",
      "_view_name": "LayoutView",
      "align_content": null,
      "align_items": null,
      "align_self": null,
      "border": null,
      "bottom": null,
      "display": null,
      "flex": null,
      "flex_flow": null,
      "grid_area": null,
      "grid_auto_columns": null,
      "grid_auto_flow": null,
      "grid_auto_rows": null,
      "grid_column": null,
      "grid_gap": null,
      "grid_row": null,
      "grid_template_areas": null,
      "grid_template_columns": null,
      "grid_template_rows": null,
      "height": null,
      "justify_content": null,
      "justify_items": null,
      "left": null,
      "margin": null,
      "max_height": null,
      "max_width": null,
      "min_height": null,
      "min_width": null,
      "object_fit": null,
      "object_position": null,
      "order": null,
      "overflow": null,
      "overflow_x": null,
      "overflow_y": null,
      "padding": null,
      "right": null,
      "top": null,
      "visibility": null,
      "width": null
     }
    }
   }
  }
 },
 "nbformat": 4,
 "nbformat_minor": 1
}
